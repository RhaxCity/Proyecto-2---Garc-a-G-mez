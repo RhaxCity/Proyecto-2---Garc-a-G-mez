{
  "cells": [
    {
      "cell_type": "markdown",
      "metadata": {
        "application/vnd.databricks.v1+cell": {
          "cellMetadata": {
            "byteLimit": 2048000,
            "rowLimit": 10000
          },
          "inputWidgets": {},
          "nuid": "afdf63d4-c612-4a4f-ac39-965fb3d6955b",
          "showTitle": false,
          "title": ""
        },
        "id": "jf5HJ3Ee8GVc"
      },
      "source": [
        "##Proyecto; segunda entrega, preparación de datos para el modelado y aplicación de técnicas de aprendizaje de máquina seleccionadas."
      ]
    },
    {
      "cell_type": "markdown",
      "metadata": {
        "application/vnd.databricks.v1+cell": {
          "cellMetadata": {
            "byteLimit": 2048000,
            "rowLimit": 10000
          },
          "inputWidgets": {},
          "nuid": "34d1d360-55c4-40e9-9ec2-5bb944462afc",
          "showTitle": false,
          "title": ""
        },
        "id": "fME1-A8q8GVd"
      },
      "source": [
        "**Pontificia Universidad Javeriana**\n",
        "\n",
        "**Materia:** Procesamiento de Datos a gran Escala\n",
        "\n",
        "**Asignación:** Proyecto; segunda entrega\n",
        "\n",
        "**Estudiantes:** Federico García Gutiérrez & Juan José Gómez Arenas\n",
        "\n",
        "**Profesor:** John Corredor"
      ]
    },
    {
      "cell_type": "markdown",
      "source": [
        "##Objetivos:\n",
        "\n",
        "- Utilizar modelos de ML para ayudar a resolver las preguntas planteadas y poder evitar nuevas problematicas.\n",
        "- Usar algoritmos de aprendizaje supervisado y no supervisado con el fin de ver cual de los dos tiene mejores metricas.\n"
      ],
      "metadata": {
        "id": "vgVyUodJ-o_H"
      }
    },
    {
      "cell_type": "markdown",
      "metadata": {
        "application/vnd.databricks.v1+cell": {
          "cellMetadata": {
            "byteLimit": 2048000,
            "rowLimit": 10000
          },
          "inputWidgets": {},
          "nuid": "3caf25bf-8b7c-4cfb-bd64-dab555272e37",
          "showTitle": false,
          "title": ""
        },
        "id": "VofI_qQo8GVe"
      },
      "source": [
        "Importación librerias:"
      ]
    },
    {
      "cell_type": "code",
      "execution_count": null,
      "metadata": {
        "application/vnd.databricks.v1+cell": {
          "cellMetadata": {
            "byteLimit": 2048000,
            "rowLimit": 10000
          },
          "inputWidgets": {},
          "nuid": "ed2f4fee-2d1a-4a96-a82f-90bbf3a0fa62",
          "showTitle": false,
          "title": ""
        },
        "id": "soHno4g48GVf"
      },
      "outputs": [],
      "source": [
        "# Importar pandas y NumPy\n",
        "import pandas as pd\n",
        "import numpy as np\n",
        "# Importar scikit-learn\n",
        "import requests\n",
        "from sklearn.model_selection import train_test_split\n",
        "from sklearn.ensemble import RandomForestClassifier\n",
        "from sklearn.metrics import classification_report, accuracy_score\n",
        "from sklearn.metrics import confusion_matrix\n",
        "from sklearn.metrics._plot.confusion_matrix import ConfusionMatrixDisplay\n",
        "from sklearn.svm import SVC\n",
        "# Importar Matplotlib y Seaborn\n",
        "import matplotlib.pyplot as plt\n",
        "import seaborn as sns\n",
        "# Importar tensor para el uso en redes neuronales\n",
        "import tensorflow as tf\n",
        "from tensorflow import keras\n",
        "#Importar XGBoost y LightGBM para tareas de clasificación y regresión\n",
        "import xgboost as xgb\n",
        "import lightgbm as lgb\n",
        "from sklearn.linear_model import LogisticRegression"
      ]
    },
    {
      "cell_type": "markdown",
      "metadata": {
        "application/vnd.databricks.v1+cell": {
          "cellMetadata": {
            "byteLimit": 2048000,
            "rowLimit": 10000
          },
          "inputWidgets": {},
          "nuid": "c09ec297-5faf-4285-b23d-af955985d235",
          "showTitle": false,
          "title": ""
        },
        "id": "rpRjKrpF8GVg"
      },
      "source": [
        "**Importacion y creacion de los data frames en Spark**"
      ]
    },
    {
      "cell_type": "code",
      "execution_count": null,
      "metadata": {
        "application/vnd.databricks.v1+cell": {
          "cellMetadata": {
            "byteLimit": 2048000,
            "rowLimit": 10000
          },
          "inputWidgets": {},
          "nuid": "0e6c3995-4029-42b6-a1e2-abbd84e3562d",
          "showTitle": false,
          "title": ""
        },
        "id": "I8cDAwMx8GVg"
      },
      "outputs": [],
      "source": [
        "url = \"https://drive.google.com/uc?id=1pNFpXELdJFUMCSAe268K1y7fRJiZ__8z&confirm=t\"\n",
        "with open(\"temp.csv\",\"wb\") as f:\n",
        "  f.write(requests.get(url).content)\n",
        "\n",
        "dfc = pd.read_csv(\"temp.csv\")"
      ]
    },
    {
      "cell_type": "code",
      "execution_count": null,
      "metadata": {
        "application/vnd.databricks.v1+cell": {
          "cellMetadata": {
            "byteLimit": 2048000,
            "rowLimit": 10000
          },
          "inputWidgets": {},
          "nuid": "dabfd58c-c825-4be2-ac43-9675181e0a9c",
          "showTitle": false,
          "title": ""
        },
        "colab": {
          "base_uri": "https://localhost:8080/",
          "height": 363
        },
        "id": "Q5MiscZF8GVg",
        "outputId": "50eea53d-907d-4fc3-f1a9-02db9587fd5b"
      },
      "outputs": [
        {
          "output_type": "execute_result",
          "data": {
            "text/plain": [
              "                                   count      mean       std  min  25%  50%  \\\n",
              "BOROUGH                        2039259.0  3.159951  1.422505  1.0  2.0  3.0   \n",
              "NUMBER OF PERSONS INJURED      2039241.0  0.305341  0.696131  0.0  0.0  0.0   \n",
              "NUMBER OF PERSONS KILLED       2039228.0  0.001463  0.040286  0.0  0.0  0.0   \n",
              "NUMBER OF PEDESTRIANS INJURED  2039259.0  0.055581  0.242154  0.0  0.0  0.0   \n",
              "NUMBER OF PEDESTRIANS KILLED   2039259.0  0.000730  0.027489  0.0  0.0  0.0   \n",
              "NUMBER OF CYCLIST INJURED      2039259.0  0.026523  0.162671  0.0  0.0  0.0   \n",
              "NUMBER OF CYCLIST KILLED       2039259.0  0.000113  0.010689  0.0  0.0  0.0   \n",
              "NUMBER OF MOTORIST INJURED     2039259.0  0.219844  0.657199  0.0  0.0  0.0   \n",
              "NUMBER OF MOTORIST KILLED      2039259.0  0.000599  0.026677  0.0  0.0  0.0   \n",
              "NUMBER OF VEHICLES IN CRASH    2039259.0  1.893615  0.576186  0.0  2.0  2.0   \n",
              "\n",
              "                               75%   max  \n",
              "BOROUGH                        4.0   6.0  \n",
              "NUMBER OF PERSONS INJURED      0.0  43.0  \n",
              "NUMBER OF PERSONS KILLED       0.0   8.0  \n",
              "NUMBER OF PEDESTRIANS INJURED  0.0  27.0  \n",
              "NUMBER OF PEDESTRIANS KILLED   0.0   6.0  \n",
              "NUMBER OF CYCLIST INJURED      0.0   4.0  \n",
              "NUMBER OF CYCLIST KILLED       0.0   2.0  \n",
              "NUMBER OF MOTORIST INJURED     0.0  43.0  \n",
              "NUMBER OF MOTORIST KILLED      0.0   5.0  \n",
              "NUMBER OF VEHICLES IN CRASH    2.0   5.0  "
            ],
            "text/html": [
              "\n",
              "  <div id=\"df-5e4ccafc-e40f-42be-ae9c-7c37a9cafa65\" class=\"colab-df-container\">\n",
              "    <div>\n",
              "<style scoped>\n",
              "    .dataframe tbody tr th:only-of-type {\n",
              "        vertical-align: middle;\n",
              "    }\n",
              "\n",
              "    .dataframe tbody tr th {\n",
              "        vertical-align: top;\n",
              "    }\n",
              "\n",
              "    .dataframe thead th {\n",
              "        text-align: right;\n",
              "    }\n",
              "</style>\n",
              "<table border=\"1\" class=\"dataframe\">\n",
              "  <thead>\n",
              "    <tr style=\"text-align: right;\">\n",
              "      <th></th>\n",
              "      <th>count</th>\n",
              "      <th>mean</th>\n",
              "      <th>std</th>\n",
              "      <th>min</th>\n",
              "      <th>25%</th>\n",
              "      <th>50%</th>\n",
              "      <th>75%</th>\n",
              "      <th>max</th>\n",
              "    </tr>\n",
              "  </thead>\n",
              "  <tbody>\n",
              "    <tr>\n",
              "      <th>BOROUGH</th>\n",
              "      <td>2039259.0</td>\n",
              "      <td>3.159951</td>\n",
              "      <td>1.422505</td>\n",
              "      <td>1.0</td>\n",
              "      <td>2.0</td>\n",
              "      <td>3.0</td>\n",
              "      <td>4.0</td>\n",
              "      <td>6.0</td>\n",
              "    </tr>\n",
              "    <tr>\n",
              "      <th>NUMBER OF PERSONS INJURED</th>\n",
              "      <td>2039241.0</td>\n",
              "      <td>0.305341</td>\n",
              "      <td>0.696131</td>\n",
              "      <td>0.0</td>\n",
              "      <td>0.0</td>\n",
              "      <td>0.0</td>\n",
              "      <td>0.0</td>\n",
              "      <td>43.0</td>\n",
              "    </tr>\n",
              "    <tr>\n",
              "      <th>NUMBER OF PERSONS KILLED</th>\n",
              "      <td>2039228.0</td>\n",
              "      <td>0.001463</td>\n",
              "      <td>0.040286</td>\n",
              "      <td>0.0</td>\n",
              "      <td>0.0</td>\n",
              "      <td>0.0</td>\n",
              "      <td>0.0</td>\n",
              "      <td>8.0</td>\n",
              "    </tr>\n",
              "    <tr>\n",
              "      <th>NUMBER OF PEDESTRIANS INJURED</th>\n",
              "      <td>2039259.0</td>\n",
              "      <td>0.055581</td>\n",
              "      <td>0.242154</td>\n",
              "      <td>0.0</td>\n",
              "      <td>0.0</td>\n",
              "      <td>0.0</td>\n",
              "      <td>0.0</td>\n",
              "      <td>27.0</td>\n",
              "    </tr>\n",
              "    <tr>\n",
              "      <th>NUMBER OF PEDESTRIANS KILLED</th>\n",
              "      <td>2039259.0</td>\n",
              "      <td>0.000730</td>\n",
              "      <td>0.027489</td>\n",
              "      <td>0.0</td>\n",
              "      <td>0.0</td>\n",
              "      <td>0.0</td>\n",
              "      <td>0.0</td>\n",
              "      <td>6.0</td>\n",
              "    </tr>\n",
              "    <tr>\n",
              "      <th>NUMBER OF CYCLIST INJURED</th>\n",
              "      <td>2039259.0</td>\n",
              "      <td>0.026523</td>\n",
              "      <td>0.162671</td>\n",
              "      <td>0.0</td>\n",
              "      <td>0.0</td>\n",
              "      <td>0.0</td>\n",
              "      <td>0.0</td>\n",
              "      <td>4.0</td>\n",
              "    </tr>\n",
              "    <tr>\n",
              "      <th>NUMBER OF CYCLIST KILLED</th>\n",
              "      <td>2039259.0</td>\n",
              "      <td>0.000113</td>\n",
              "      <td>0.010689</td>\n",
              "      <td>0.0</td>\n",
              "      <td>0.0</td>\n",
              "      <td>0.0</td>\n",
              "      <td>0.0</td>\n",
              "      <td>2.0</td>\n",
              "    </tr>\n",
              "    <tr>\n",
              "      <th>NUMBER OF MOTORIST INJURED</th>\n",
              "      <td>2039259.0</td>\n",
              "      <td>0.219844</td>\n",
              "      <td>0.657199</td>\n",
              "      <td>0.0</td>\n",
              "      <td>0.0</td>\n",
              "      <td>0.0</td>\n",
              "      <td>0.0</td>\n",
              "      <td>43.0</td>\n",
              "    </tr>\n",
              "    <tr>\n",
              "      <th>NUMBER OF MOTORIST KILLED</th>\n",
              "      <td>2039259.0</td>\n",
              "      <td>0.000599</td>\n",
              "      <td>0.026677</td>\n",
              "      <td>0.0</td>\n",
              "      <td>0.0</td>\n",
              "      <td>0.0</td>\n",
              "      <td>0.0</td>\n",
              "      <td>5.0</td>\n",
              "    </tr>\n",
              "    <tr>\n",
              "      <th>NUMBER OF VEHICLES IN CRASH</th>\n",
              "      <td>2039259.0</td>\n",
              "      <td>1.893615</td>\n",
              "      <td>0.576186</td>\n",
              "      <td>0.0</td>\n",
              "      <td>2.0</td>\n",
              "      <td>2.0</td>\n",
              "      <td>2.0</td>\n",
              "      <td>5.0</td>\n",
              "    </tr>\n",
              "  </tbody>\n",
              "</table>\n",
              "</div>\n",
              "    <div class=\"colab-df-buttons\">\n",
              "\n",
              "  <div class=\"colab-df-container\">\n",
              "    <button class=\"colab-df-convert\" onclick=\"convertToInteractive('df-5e4ccafc-e40f-42be-ae9c-7c37a9cafa65')\"\n",
              "            title=\"Convert this dataframe to an interactive table.\"\n",
              "            style=\"display:none;\">\n",
              "\n",
              "  <svg xmlns=\"http://www.w3.org/2000/svg\" height=\"24px\" viewBox=\"0 -960 960 960\">\n",
              "    <path d=\"M120-120v-720h720v720H120Zm60-500h600v-160H180v160Zm220 220h160v-160H400v160Zm0 220h160v-160H400v160ZM180-400h160v-160H180v160Zm440 0h160v-160H620v160ZM180-180h160v-160H180v160Zm440 0h160v-160H620v160Z\"/>\n",
              "  </svg>\n",
              "    </button>\n",
              "\n",
              "  <style>\n",
              "    .colab-df-container {\n",
              "      display:flex;\n",
              "      gap: 12px;\n",
              "    }\n",
              "\n",
              "    .colab-df-convert {\n",
              "      background-color: #E8F0FE;\n",
              "      border: none;\n",
              "      border-radius: 50%;\n",
              "      cursor: pointer;\n",
              "      display: none;\n",
              "      fill: #1967D2;\n",
              "      height: 32px;\n",
              "      padding: 0 0 0 0;\n",
              "      width: 32px;\n",
              "    }\n",
              "\n",
              "    .colab-df-convert:hover {\n",
              "      background-color: #E2EBFA;\n",
              "      box-shadow: 0px 1px 2px rgba(60, 64, 67, 0.3), 0px 1px 3px 1px rgba(60, 64, 67, 0.15);\n",
              "      fill: #174EA6;\n",
              "    }\n",
              "\n",
              "    .colab-df-buttons div {\n",
              "      margin-bottom: 4px;\n",
              "    }\n",
              "\n",
              "    [theme=dark] .colab-df-convert {\n",
              "      background-color: #3B4455;\n",
              "      fill: #D2E3FC;\n",
              "    }\n",
              "\n",
              "    [theme=dark] .colab-df-convert:hover {\n",
              "      background-color: #434B5C;\n",
              "      box-shadow: 0px 1px 3px 1px rgba(0, 0, 0, 0.15);\n",
              "      filter: drop-shadow(0px 1px 2px rgba(0, 0, 0, 0.3));\n",
              "      fill: #FFFFFF;\n",
              "    }\n",
              "  </style>\n",
              "\n",
              "    <script>\n",
              "      const buttonEl =\n",
              "        document.querySelector('#df-5e4ccafc-e40f-42be-ae9c-7c37a9cafa65 button.colab-df-convert');\n",
              "      buttonEl.style.display =\n",
              "        google.colab.kernel.accessAllowed ? 'block' : 'none';\n",
              "\n",
              "      async function convertToInteractive(key) {\n",
              "        const element = document.querySelector('#df-5e4ccafc-e40f-42be-ae9c-7c37a9cafa65');\n",
              "        const dataTable =\n",
              "          await google.colab.kernel.invokeFunction('convertToInteractive',\n",
              "                                                    [key], {});\n",
              "        if (!dataTable) return;\n",
              "\n",
              "        const docLinkHtml = 'Like what you see? Visit the ' +\n",
              "          '<a target=\"_blank\" href=https://colab.research.google.com/notebooks/data_table.ipynb>data table notebook</a>'\n",
              "          + ' to learn more about interactive tables.';\n",
              "        element.innerHTML = '';\n",
              "        dataTable['output_type'] = 'display_data';\n",
              "        await google.colab.output.renderOutput(dataTable, element);\n",
              "        const docLink = document.createElement('div');\n",
              "        docLink.innerHTML = docLinkHtml;\n",
              "        element.appendChild(docLink);\n",
              "      }\n",
              "    </script>\n",
              "  </div>\n",
              "\n",
              "\n",
              "<div id=\"df-62b2d8be-dcdf-4f77-9598-855942d38f78\">\n",
              "  <button class=\"colab-df-quickchart\" onclick=\"quickchart('df-62b2d8be-dcdf-4f77-9598-855942d38f78')\"\n",
              "            title=\"Suggest charts\"\n",
              "            style=\"display:none;\">\n",
              "\n",
              "<svg xmlns=\"http://www.w3.org/2000/svg\" height=\"24px\"viewBox=\"0 0 24 24\"\n",
              "     width=\"24px\">\n",
              "    <g>\n",
              "        <path d=\"M19 3H5c-1.1 0-2 .9-2 2v14c0 1.1.9 2 2 2h14c1.1 0 2-.9 2-2V5c0-1.1-.9-2-2-2zM9 17H7v-7h2v7zm4 0h-2V7h2v10zm4 0h-2v-4h2v4z\"/>\n",
              "    </g>\n",
              "</svg>\n",
              "  </button>\n",
              "\n",
              "<style>\n",
              "  .colab-df-quickchart {\n",
              "      --bg-color: #E8F0FE;\n",
              "      --fill-color: #1967D2;\n",
              "      --hover-bg-color: #E2EBFA;\n",
              "      --hover-fill-color: #174EA6;\n",
              "      --disabled-fill-color: #AAA;\n",
              "      --disabled-bg-color: #DDD;\n",
              "  }\n",
              "\n",
              "  [theme=dark] .colab-df-quickchart {\n",
              "      --bg-color: #3B4455;\n",
              "      --fill-color: #D2E3FC;\n",
              "      --hover-bg-color: #434B5C;\n",
              "      --hover-fill-color: #FFFFFF;\n",
              "      --disabled-bg-color: #3B4455;\n",
              "      --disabled-fill-color: #666;\n",
              "  }\n",
              "\n",
              "  .colab-df-quickchart {\n",
              "    background-color: var(--bg-color);\n",
              "    border: none;\n",
              "    border-radius: 50%;\n",
              "    cursor: pointer;\n",
              "    display: none;\n",
              "    fill: var(--fill-color);\n",
              "    height: 32px;\n",
              "    padding: 0;\n",
              "    width: 32px;\n",
              "  }\n",
              "\n",
              "  .colab-df-quickchart:hover {\n",
              "    background-color: var(--hover-bg-color);\n",
              "    box-shadow: 0 1px 2px rgba(60, 64, 67, 0.3), 0 1px 3px 1px rgba(60, 64, 67, 0.15);\n",
              "    fill: var(--button-hover-fill-color);\n",
              "  }\n",
              "\n",
              "  .colab-df-quickchart-complete:disabled,\n",
              "  .colab-df-quickchart-complete:disabled:hover {\n",
              "    background-color: var(--disabled-bg-color);\n",
              "    fill: var(--disabled-fill-color);\n",
              "    box-shadow: none;\n",
              "  }\n",
              "\n",
              "  .colab-df-spinner {\n",
              "    border: 2px solid var(--fill-color);\n",
              "    border-color: transparent;\n",
              "    border-bottom-color: var(--fill-color);\n",
              "    animation:\n",
              "      spin 1s steps(1) infinite;\n",
              "  }\n",
              "\n",
              "  @keyframes spin {\n",
              "    0% {\n",
              "      border-color: transparent;\n",
              "      border-bottom-color: var(--fill-color);\n",
              "      border-left-color: var(--fill-color);\n",
              "    }\n",
              "    20% {\n",
              "      border-color: transparent;\n",
              "      border-left-color: var(--fill-color);\n",
              "      border-top-color: var(--fill-color);\n",
              "    }\n",
              "    30% {\n",
              "      border-color: transparent;\n",
              "      border-left-color: var(--fill-color);\n",
              "      border-top-color: var(--fill-color);\n",
              "      border-right-color: var(--fill-color);\n",
              "    }\n",
              "    40% {\n",
              "      border-color: transparent;\n",
              "      border-right-color: var(--fill-color);\n",
              "      border-top-color: var(--fill-color);\n",
              "    }\n",
              "    60% {\n",
              "      border-color: transparent;\n",
              "      border-right-color: var(--fill-color);\n",
              "    }\n",
              "    80% {\n",
              "      border-color: transparent;\n",
              "      border-right-color: var(--fill-color);\n",
              "      border-bottom-color: var(--fill-color);\n",
              "    }\n",
              "    90% {\n",
              "      border-color: transparent;\n",
              "      border-bottom-color: var(--fill-color);\n",
              "    }\n",
              "  }\n",
              "</style>\n",
              "\n",
              "  <script>\n",
              "    async function quickchart(key) {\n",
              "      const quickchartButtonEl =\n",
              "        document.querySelector('#' + key + ' button');\n",
              "      quickchartButtonEl.disabled = true;  // To prevent multiple clicks.\n",
              "      quickchartButtonEl.classList.add('colab-df-spinner');\n",
              "      try {\n",
              "        const charts = await google.colab.kernel.invokeFunction(\n",
              "            'suggestCharts', [key], {});\n",
              "      } catch (error) {\n",
              "        console.error('Error during call to suggestCharts:', error);\n",
              "      }\n",
              "      quickchartButtonEl.classList.remove('colab-df-spinner');\n",
              "      quickchartButtonEl.classList.add('colab-df-quickchart-complete');\n",
              "    }\n",
              "    (() => {\n",
              "      let quickchartButtonEl =\n",
              "        document.querySelector('#df-62b2d8be-dcdf-4f77-9598-855942d38f78 button');\n",
              "      quickchartButtonEl.style.display =\n",
              "        google.colab.kernel.accessAllowed ? 'block' : 'none';\n",
              "    })();\n",
              "  </script>\n",
              "</div>\n",
              "    </div>\n",
              "  </div>\n"
            ]
          },
          "metadata": {},
          "execution_count": 35
        }
      ],
      "source": [
        "dfc.describe().T"
      ]
    },
    {
      "cell_type": "code",
      "source": [
        "url = \"https://drive.google.com/uc?id=1VowO2k4XEhhEXWXO51V1pZRgFh0QGHXV&confirm=t\"\n",
        "with open(\"temp.csv\",\"wb\") as f:\n",
        "  f.write(requests.get(url).content)\n",
        "\n",
        "dfp = pd.read_csv(\"temp.csv\")"
      ],
      "metadata": {
        "id": "lPFvDxxX-Afp"
      },
      "execution_count": null,
      "outputs": []
    },
    {
      "cell_type": "code",
      "execution_count": null,
      "metadata": {
        "application/vnd.databricks.v1+cell": {
          "cellMetadata": {
            "byteLimit": 2048000,
            "rowLimit": 10000
          },
          "inputWidgets": {},
          "nuid": "90ccb470-7cc6-41a9-a3b6-89f219766e42",
          "showTitle": false,
          "title": ""
        },
        "colab": {
          "base_uri": "https://localhost:8080/",
          "height": 363
        },
        "id": "pXEalVil8GVh",
        "outputId": "5df45ae5-a3c4-481d-8943-713d2e887980"
      },
      "outputs": [
        {
          "output_type": "execute_result",
          "data": {
            "text/plain": [
              "                         count       mean         std    min   25%   50%  \\\n",
              "PERSON_TYPE          5193416.0   1.053257    0.291583    1.0   1.0   1.0   \n",
              "PERSON_INJURY        5193416.0   1.120989    0.327870    1.0   1.0   1.0   \n",
              "PERSON_AGE           4647936.0  37.166654  115.648000 -999.0  24.0  35.0   \n",
              "EMOTIONAL_STATUS     5193416.0   1.619630    0.676829    1.0   1.0   2.0   \n",
              "BODILY_INJURY        5193416.0   1.898889    1.697820    1.0   1.0   2.0   \n",
              "POSITION_IN_VEHICLE  5193416.0   2.478599    1.692255    1.0   1.0   2.0   \n",
              "SAFETY_EQUIPMENT     5193416.0   1.715789    1.345362    1.0   1.0   1.0   \n",
              "COMPLAINT            5193416.0   1.828595    1.578777    1.0   1.0   2.0   \n",
              "PED_ROLE             4998527.0   2.472747    1.521965    1.0   1.0   2.0   \n",
              "PERSON_SEX           5193416.0   1.657490    0.782637    1.0   1.0   1.0   \n",
              "\n",
              "                      75%     max  \n",
              "PERSON_TYPE           1.0     4.0  \n",
              "PERSON_INJURY         1.0     3.0  \n",
              "PERSON_AGE           50.0  9999.0  \n",
              "EMOTIONAL_STATUS      2.0     8.0  \n",
              "BODILY_INJURY         2.0    14.0  \n",
              "POSITION_IN_VEHICLE   4.0    11.0  \n",
              "SAFETY_EQUIPMENT      2.0    18.0  \n",
              "COMPLAINT             2.0    21.0  \n",
              "PED_ROLE              4.0    10.0  \n",
              "PERSON_SEX            2.0     3.0  "
            ],
            "text/html": [
              "\n",
              "  <div id=\"df-5b75fa71-dfe7-4935-ab4b-13127523e86f\" class=\"colab-df-container\">\n",
              "    <div>\n",
              "<style scoped>\n",
              "    .dataframe tbody tr th:only-of-type {\n",
              "        vertical-align: middle;\n",
              "    }\n",
              "\n",
              "    .dataframe tbody tr th {\n",
              "        vertical-align: top;\n",
              "    }\n",
              "\n",
              "    .dataframe thead th {\n",
              "        text-align: right;\n",
              "    }\n",
              "</style>\n",
              "<table border=\"1\" class=\"dataframe\">\n",
              "  <thead>\n",
              "    <tr style=\"text-align: right;\">\n",
              "      <th></th>\n",
              "      <th>count</th>\n",
              "      <th>mean</th>\n",
              "      <th>std</th>\n",
              "      <th>min</th>\n",
              "      <th>25%</th>\n",
              "      <th>50%</th>\n",
              "      <th>75%</th>\n",
              "      <th>max</th>\n",
              "    </tr>\n",
              "  </thead>\n",
              "  <tbody>\n",
              "    <tr>\n",
              "      <th>PERSON_TYPE</th>\n",
              "      <td>5193416.0</td>\n",
              "      <td>1.053257</td>\n",
              "      <td>0.291583</td>\n",
              "      <td>1.0</td>\n",
              "      <td>1.0</td>\n",
              "      <td>1.0</td>\n",
              "      <td>1.0</td>\n",
              "      <td>4.0</td>\n",
              "    </tr>\n",
              "    <tr>\n",
              "      <th>PERSON_INJURY</th>\n",
              "      <td>5193416.0</td>\n",
              "      <td>1.120989</td>\n",
              "      <td>0.327870</td>\n",
              "      <td>1.0</td>\n",
              "      <td>1.0</td>\n",
              "      <td>1.0</td>\n",
              "      <td>1.0</td>\n",
              "      <td>3.0</td>\n",
              "    </tr>\n",
              "    <tr>\n",
              "      <th>PERSON_AGE</th>\n",
              "      <td>4647936.0</td>\n",
              "      <td>37.166654</td>\n",
              "      <td>115.648000</td>\n",
              "      <td>-999.0</td>\n",
              "      <td>24.0</td>\n",
              "      <td>35.0</td>\n",
              "      <td>50.0</td>\n",
              "      <td>9999.0</td>\n",
              "    </tr>\n",
              "    <tr>\n",
              "      <th>EMOTIONAL_STATUS</th>\n",
              "      <td>5193416.0</td>\n",
              "      <td>1.619630</td>\n",
              "      <td>0.676829</td>\n",
              "      <td>1.0</td>\n",
              "      <td>1.0</td>\n",
              "      <td>2.0</td>\n",
              "      <td>2.0</td>\n",
              "      <td>8.0</td>\n",
              "    </tr>\n",
              "    <tr>\n",
              "      <th>BODILY_INJURY</th>\n",
              "      <td>5193416.0</td>\n",
              "      <td>1.898889</td>\n",
              "      <td>1.697820</td>\n",
              "      <td>1.0</td>\n",
              "      <td>1.0</td>\n",
              "      <td>2.0</td>\n",
              "      <td>2.0</td>\n",
              "      <td>14.0</td>\n",
              "    </tr>\n",
              "    <tr>\n",
              "      <th>POSITION_IN_VEHICLE</th>\n",
              "      <td>5193416.0</td>\n",
              "      <td>2.478599</td>\n",
              "      <td>1.692255</td>\n",
              "      <td>1.0</td>\n",
              "      <td>1.0</td>\n",
              "      <td>2.0</td>\n",
              "      <td>4.0</td>\n",
              "      <td>11.0</td>\n",
              "    </tr>\n",
              "    <tr>\n",
              "      <th>SAFETY_EQUIPMENT</th>\n",
              "      <td>5193416.0</td>\n",
              "      <td>1.715789</td>\n",
              "      <td>1.345362</td>\n",
              "      <td>1.0</td>\n",
              "      <td>1.0</td>\n",
              "      <td>1.0</td>\n",
              "      <td>2.0</td>\n",
              "      <td>18.0</td>\n",
              "    </tr>\n",
              "    <tr>\n",
              "      <th>COMPLAINT</th>\n",
              "      <td>5193416.0</td>\n",
              "      <td>1.828595</td>\n",
              "      <td>1.578777</td>\n",
              "      <td>1.0</td>\n",
              "      <td>1.0</td>\n",
              "      <td>2.0</td>\n",
              "      <td>2.0</td>\n",
              "      <td>21.0</td>\n",
              "    </tr>\n",
              "    <tr>\n",
              "      <th>PED_ROLE</th>\n",
              "      <td>4998527.0</td>\n",
              "      <td>2.472747</td>\n",
              "      <td>1.521965</td>\n",
              "      <td>1.0</td>\n",
              "      <td>1.0</td>\n",
              "      <td>2.0</td>\n",
              "      <td>4.0</td>\n",
              "      <td>10.0</td>\n",
              "    </tr>\n",
              "    <tr>\n",
              "      <th>PERSON_SEX</th>\n",
              "      <td>5193416.0</td>\n",
              "      <td>1.657490</td>\n",
              "      <td>0.782637</td>\n",
              "      <td>1.0</td>\n",
              "      <td>1.0</td>\n",
              "      <td>1.0</td>\n",
              "      <td>2.0</td>\n",
              "      <td>3.0</td>\n",
              "    </tr>\n",
              "  </tbody>\n",
              "</table>\n",
              "</div>\n",
              "    <div class=\"colab-df-buttons\">\n",
              "\n",
              "  <div class=\"colab-df-container\">\n",
              "    <button class=\"colab-df-convert\" onclick=\"convertToInteractive('df-5b75fa71-dfe7-4935-ab4b-13127523e86f')\"\n",
              "            title=\"Convert this dataframe to an interactive table.\"\n",
              "            style=\"display:none;\">\n",
              "\n",
              "  <svg xmlns=\"http://www.w3.org/2000/svg\" height=\"24px\" viewBox=\"0 -960 960 960\">\n",
              "    <path d=\"M120-120v-720h720v720H120Zm60-500h600v-160H180v160Zm220 220h160v-160H400v160Zm0 220h160v-160H400v160ZM180-400h160v-160H180v160Zm440 0h160v-160H620v160ZM180-180h160v-160H180v160Zm440 0h160v-160H620v160Z\"/>\n",
              "  </svg>\n",
              "    </button>\n",
              "\n",
              "  <style>\n",
              "    .colab-df-container {\n",
              "      display:flex;\n",
              "      gap: 12px;\n",
              "    }\n",
              "\n",
              "    .colab-df-convert {\n",
              "      background-color: #E8F0FE;\n",
              "      border: none;\n",
              "      border-radius: 50%;\n",
              "      cursor: pointer;\n",
              "      display: none;\n",
              "      fill: #1967D2;\n",
              "      height: 32px;\n",
              "      padding: 0 0 0 0;\n",
              "      width: 32px;\n",
              "    }\n",
              "\n",
              "    .colab-df-convert:hover {\n",
              "      background-color: #E2EBFA;\n",
              "      box-shadow: 0px 1px 2px rgba(60, 64, 67, 0.3), 0px 1px 3px 1px rgba(60, 64, 67, 0.15);\n",
              "      fill: #174EA6;\n",
              "    }\n",
              "\n",
              "    .colab-df-buttons div {\n",
              "      margin-bottom: 4px;\n",
              "    }\n",
              "\n",
              "    [theme=dark] .colab-df-convert {\n",
              "      background-color: #3B4455;\n",
              "      fill: #D2E3FC;\n",
              "    }\n",
              "\n",
              "    [theme=dark] .colab-df-convert:hover {\n",
              "      background-color: #434B5C;\n",
              "      box-shadow: 0px 1px 3px 1px rgba(0, 0, 0, 0.15);\n",
              "      filter: drop-shadow(0px 1px 2px rgba(0, 0, 0, 0.3));\n",
              "      fill: #FFFFFF;\n",
              "    }\n",
              "  </style>\n",
              "\n",
              "    <script>\n",
              "      const buttonEl =\n",
              "        document.querySelector('#df-5b75fa71-dfe7-4935-ab4b-13127523e86f button.colab-df-convert');\n",
              "      buttonEl.style.display =\n",
              "        google.colab.kernel.accessAllowed ? 'block' : 'none';\n",
              "\n",
              "      async function convertToInteractive(key) {\n",
              "        const element = document.querySelector('#df-5b75fa71-dfe7-4935-ab4b-13127523e86f');\n",
              "        const dataTable =\n",
              "          await google.colab.kernel.invokeFunction('convertToInteractive',\n",
              "                                                    [key], {});\n",
              "        if (!dataTable) return;\n",
              "\n",
              "        const docLinkHtml = 'Like what you see? Visit the ' +\n",
              "          '<a target=\"_blank\" href=https://colab.research.google.com/notebooks/data_table.ipynb>data table notebook</a>'\n",
              "          + ' to learn more about interactive tables.';\n",
              "        element.innerHTML = '';\n",
              "        dataTable['output_type'] = 'display_data';\n",
              "        await google.colab.output.renderOutput(dataTable, element);\n",
              "        const docLink = document.createElement('div');\n",
              "        docLink.innerHTML = docLinkHtml;\n",
              "        element.appendChild(docLink);\n",
              "      }\n",
              "    </script>\n",
              "  </div>\n",
              "\n",
              "\n",
              "<div id=\"df-54bda44b-3df9-43c1-adcd-e419e1ced504\">\n",
              "  <button class=\"colab-df-quickchart\" onclick=\"quickchart('df-54bda44b-3df9-43c1-adcd-e419e1ced504')\"\n",
              "            title=\"Suggest charts\"\n",
              "            style=\"display:none;\">\n",
              "\n",
              "<svg xmlns=\"http://www.w3.org/2000/svg\" height=\"24px\"viewBox=\"0 0 24 24\"\n",
              "     width=\"24px\">\n",
              "    <g>\n",
              "        <path d=\"M19 3H5c-1.1 0-2 .9-2 2v14c0 1.1.9 2 2 2h14c1.1 0 2-.9 2-2V5c0-1.1-.9-2-2-2zM9 17H7v-7h2v7zm4 0h-2V7h2v10zm4 0h-2v-4h2v4z\"/>\n",
              "    </g>\n",
              "</svg>\n",
              "  </button>\n",
              "\n",
              "<style>\n",
              "  .colab-df-quickchart {\n",
              "      --bg-color: #E8F0FE;\n",
              "      --fill-color: #1967D2;\n",
              "      --hover-bg-color: #E2EBFA;\n",
              "      --hover-fill-color: #174EA6;\n",
              "      --disabled-fill-color: #AAA;\n",
              "      --disabled-bg-color: #DDD;\n",
              "  }\n",
              "\n",
              "  [theme=dark] .colab-df-quickchart {\n",
              "      --bg-color: #3B4455;\n",
              "      --fill-color: #D2E3FC;\n",
              "      --hover-bg-color: #434B5C;\n",
              "      --hover-fill-color: #FFFFFF;\n",
              "      --disabled-bg-color: #3B4455;\n",
              "      --disabled-fill-color: #666;\n",
              "  }\n",
              "\n",
              "  .colab-df-quickchart {\n",
              "    background-color: var(--bg-color);\n",
              "    border: none;\n",
              "    border-radius: 50%;\n",
              "    cursor: pointer;\n",
              "    display: none;\n",
              "    fill: var(--fill-color);\n",
              "    height: 32px;\n",
              "    padding: 0;\n",
              "    width: 32px;\n",
              "  }\n",
              "\n",
              "  .colab-df-quickchart:hover {\n",
              "    background-color: var(--hover-bg-color);\n",
              "    box-shadow: 0 1px 2px rgba(60, 64, 67, 0.3), 0 1px 3px 1px rgba(60, 64, 67, 0.15);\n",
              "    fill: var(--button-hover-fill-color);\n",
              "  }\n",
              "\n",
              "  .colab-df-quickchart-complete:disabled,\n",
              "  .colab-df-quickchart-complete:disabled:hover {\n",
              "    background-color: var(--disabled-bg-color);\n",
              "    fill: var(--disabled-fill-color);\n",
              "    box-shadow: none;\n",
              "  }\n",
              "\n",
              "  .colab-df-spinner {\n",
              "    border: 2px solid var(--fill-color);\n",
              "    border-color: transparent;\n",
              "    border-bottom-color: var(--fill-color);\n",
              "    animation:\n",
              "      spin 1s steps(1) infinite;\n",
              "  }\n",
              "\n",
              "  @keyframes spin {\n",
              "    0% {\n",
              "      border-color: transparent;\n",
              "      border-bottom-color: var(--fill-color);\n",
              "      border-left-color: var(--fill-color);\n",
              "    }\n",
              "    20% {\n",
              "      border-color: transparent;\n",
              "      border-left-color: var(--fill-color);\n",
              "      border-top-color: var(--fill-color);\n",
              "    }\n",
              "    30% {\n",
              "      border-color: transparent;\n",
              "      border-left-color: var(--fill-color);\n",
              "      border-top-color: var(--fill-color);\n",
              "      border-right-color: var(--fill-color);\n",
              "    }\n",
              "    40% {\n",
              "      border-color: transparent;\n",
              "      border-right-color: var(--fill-color);\n",
              "      border-top-color: var(--fill-color);\n",
              "    }\n",
              "    60% {\n",
              "      border-color: transparent;\n",
              "      border-right-color: var(--fill-color);\n",
              "    }\n",
              "    80% {\n",
              "      border-color: transparent;\n",
              "      border-right-color: var(--fill-color);\n",
              "      border-bottom-color: var(--fill-color);\n",
              "    }\n",
              "    90% {\n",
              "      border-color: transparent;\n",
              "      border-bottom-color: var(--fill-color);\n",
              "    }\n",
              "  }\n",
              "</style>\n",
              "\n",
              "  <script>\n",
              "    async function quickchart(key) {\n",
              "      const quickchartButtonEl =\n",
              "        document.querySelector('#' + key + ' button');\n",
              "      quickchartButtonEl.disabled = true;  // To prevent multiple clicks.\n",
              "      quickchartButtonEl.classList.add('colab-df-spinner');\n",
              "      try {\n",
              "        const charts = await google.colab.kernel.invokeFunction(\n",
              "            'suggestCharts', [key], {});\n",
              "      } catch (error) {\n",
              "        console.error('Error during call to suggestCharts:', error);\n",
              "      }\n",
              "      quickchartButtonEl.classList.remove('colab-df-spinner');\n",
              "      quickchartButtonEl.classList.add('colab-df-quickchart-complete');\n",
              "    }\n",
              "    (() => {\n",
              "      let quickchartButtonEl =\n",
              "        document.querySelector('#df-54bda44b-3df9-43c1-adcd-e419e1ced504 button');\n",
              "      quickchartButtonEl.style.display =\n",
              "        google.colab.kernel.accessAllowed ? 'block' : 'none';\n",
              "    })();\n",
              "  </script>\n",
              "</div>\n",
              "    </div>\n",
              "  </div>\n"
            ]
          },
          "metadata": {},
          "execution_count": 37
        }
      ],
      "source": [
        "dfp.describe().T"
      ]
    },
    {
      "cell_type": "code",
      "execution_count": null,
      "metadata": {
        "application/vnd.databricks.v1+cell": {
          "cellMetadata": {
            "byteLimit": 2048000,
            "rowLimit": 10000
          },
          "inputWidgets": {},
          "nuid": "dce4fc54-120d-4efb-b573-94b99c5c51e0",
          "showTitle": false,
          "title": ""
        },
        "id": "h6pLFa1o8GVh"
      },
      "outputs": [],
      "source": [
        "url = \"https://drive.google.com/uc?id=1edod4aUqgns9dopqMoq_iHwH1wkfbVHq&confirm=t\"\n",
        "with open(\"temp.csv\",\"wb\") as f:\n",
        "  f.write(requests.get(url).content)\n",
        "\n",
        "dfa = pd.read_csv(\"temp.csv\")"
      ]
    },
    {
      "cell_type": "code",
      "execution_count": null,
      "metadata": {
        "application/vnd.databricks.v1+cell": {
          "cellMetadata": {
            "byteLimit": 2048000,
            "rowLimit": 10000
          },
          "inputWidgets": {},
          "nuid": "b66a27d7-b15e-4879-929b-be5534105dfc",
          "showTitle": false,
          "title": ""
        },
        "colab": {
          "base_uri": "https://localhost:8080/",
          "height": 300
        },
        "id": "L51BEIcZ8GVh",
        "outputId": "c7d8b9a6-8ea6-406a-8738-0f71951c514d"
      },
      "outputs": [
        {
          "output_type": "execute_result",
          "data": {
            "text/plain": [
              "                       count       mean        std  min   25%   50%   75%  \\\n",
              "OFNS_DESC          3498806.0  10.491088   4.133870  1.0   6.0  12.0  13.0   \n",
              "LAW_CAT_CD         5467074.0   1.778609   0.556183  1.0   1.0   2.0   2.0   \n",
              "ARREST_BORO        5467074.0   2.703146   1.198967  1.0   2.0   3.0   4.0   \n",
              "ARREST_PRECINCT    5193895.0  63.277916  33.556737  1.0  40.0  63.0  90.0   \n",
              "JURISDICTION_CODE  5467074.0   1.383745   0.921696  1.0   1.0   1.0   1.0   \n",
              "AGE_GROUP          5467074.0   1.969595   1.058720  1.0   1.0   2.0   3.0   \n",
              "PERP_SEX           5467074.0   1.168532   0.374338  1.0   1.0   1.0   1.0   \n",
              "PERP_RACE          5467074.0   2.232325   1.213756  1.0   1.0   2.0   3.0   \n",
              "\n",
              "                     max  \n",
              "OFNS_DESC           20.0  \n",
              "LAW_CAT_CD           4.0  \n",
              "ARREST_BORO          5.0  \n",
              "ARREST_PRECINCT    123.0  \n",
              "JURISDICTION_CODE    4.0  \n",
              "AGE_GROUP            6.0  \n",
              "PERP_SEX             2.0  \n",
              "PERP_RACE            8.0  "
            ],
            "text/html": [
              "\n",
              "  <div id=\"df-e0ffab58-ba1a-461c-96f8-a010e0c9532a\" class=\"colab-df-container\">\n",
              "    <div>\n",
              "<style scoped>\n",
              "    .dataframe tbody tr th:only-of-type {\n",
              "        vertical-align: middle;\n",
              "    }\n",
              "\n",
              "    .dataframe tbody tr th {\n",
              "        vertical-align: top;\n",
              "    }\n",
              "\n",
              "    .dataframe thead th {\n",
              "        text-align: right;\n",
              "    }\n",
              "</style>\n",
              "<table border=\"1\" class=\"dataframe\">\n",
              "  <thead>\n",
              "    <tr style=\"text-align: right;\">\n",
              "      <th></th>\n",
              "      <th>count</th>\n",
              "      <th>mean</th>\n",
              "      <th>std</th>\n",
              "      <th>min</th>\n",
              "      <th>25%</th>\n",
              "      <th>50%</th>\n",
              "      <th>75%</th>\n",
              "      <th>max</th>\n",
              "    </tr>\n",
              "  </thead>\n",
              "  <tbody>\n",
              "    <tr>\n",
              "      <th>OFNS_DESC</th>\n",
              "      <td>3498806.0</td>\n",
              "      <td>10.491088</td>\n",
              "      <td>4.133870</td>\n",
              "      <td>1.0</td>\n",
              "      <td>6.0</td>\n",
              "      <td>12.0</td>\n",
              "      <td>13.0</td>\n",
              "      <td>20.0</td>\n",
              "    </tr>\n",
              "    <tr>\n",
              "      <th>LAW_CAT_CD</th>\n",
              "      <td>5467074.0</td>\n",
              "      <td>1.778609</td>\n",
              "      <td>0.556183</td>\n",
              "      <td>1.0</td>\n",
              "      <td>1.0</td>\n",
              "      <td>2.0</td>\n",
              "      <td>2.0</td>\n",
              "      <td>4.0</td>\n",
              "    </tr>\n",
              "    <tr>\n",
              "      <th>ARREST_BORO</th>\n",
              "      <td>5467074.0</td>\n",
              "      <td>2.703146</td>\n",
              "      <td>1.198967</td>\n",
              "      <td>1.0</td>\n",
              "      <td>2.0</td>\n",
              "      <td>3.0</td>\n",
              "      <td>4.0</td>\n",
              "      <td>5.0</td>\n",
              "    </tr>\n",
              "    <tr>\n",
              "      <th>ARREST_PRECINCT</th>\n",
              "      <td>5193895.0</td>\n",
              "      <td>63.277916</td>\n",
              "      <td>33.556737</td>\n",
              "      <td>1.0</td>\n",
              "      <td>40.0</td>\n",
              "      <td>63.0</td>\n",
              "      <td>90.0</td>\n",
              "      <td>123.0</td>\n",
              "    </tr>\n",
              "    <tr>\n",
              "      <th>JURISDICTION_CODE</th>\n",
              "      <td>5467074.0</td>\n",
              "      <td>1.383745</td>\n",
              "      <td>0.921696</td>\n",
              "      <td>1.0</td>\n",
              "      <td>1.0</td>\n",
              "      <td>1.0</td>\n",
              "      <td>1.0</td>\n",
              "      <td>4.0</td>\n",
              "    </tr>\n",
              "    <tr>\n",
              "      <th>AGE_GROUP</th>\n",
              "      <td>5467074.0</td>\n",
              "      <td>1.969595</td>\n",
              "      <td>1.058720</td>\n",
              "      <td>1.0</td>\n",
              "      <td>1.0</td>\n",
              "      <td>2.0</td>\n",
              "      <td>3.0</td>\n",
              "      <td>6.0</td>\n",
              "    </tr>\n",
              "    <tr>\n",
              "      <th>PERP_SEX</th>\n",
              "      <td>5467074.0</td>\n",
              "      <td>1.168532</td>\n",
              "      <td>0.374338</td>\n",
              "      <td>1.0</td>\n",
              "      <td>1.0</td>\n",
              "      <td>1.0</td>\n",
              "      <td>1.0</td>\n",
              "      <td>2.0</td>\n",
              "    </tr>\n",
              "    <tr>\n",
              "      <th>PERP_RACE</th>\n",
              "      <td>5467074.0</td>\n",
              "      <td>2.232325</td>\n",
              "      <td>1.213756</td>\n",
              "      <td>1.0</td>\n",
              "      <td>1.0</td>\n",
              "      <td>2.0</td>\n",
              "      <td>3.0</td>\n",
              "      <td>8.0</td>\n",
              "    </tr>\n",
              "  </tbody>\n",
              "</table>\n",
              "</div>\n",
              "    <div class=\"colab-df-buttons\">\n",
              "\n",
              "  <div class=\"colab-df-container\">\n",
              "    <button class=\"colab-df-convert\" onclick=\"convertToInteractive('df-e0ffab58-ba1a-461c-96f8-a010e0c9532a')\"\n",
              "            title=\"Convert this dataframe to an interactive table.\"\n",
              "            style=\"display:none;\">\n",
              "\n",
              "  <svg xmlns=\"http://www.w3.org/2000/svg\" height=\"24px\" viewBox=\"0 -960 960 960\">\n",
              "    <path d=\"M120-120v-720h720v720H120Zm60-500h600v-160H180v160Zm220 220h160v-160H400v160Zm0 220h160v-160H400v160ZM180-400h160v-160H180v160Zm440 0h160v-160H620v160ZM180-180h160v-160H180v160Zm440 0h160v-160H620v160Z\"/>\n",
              "  </svg>\n",
              "    </button>\n",
              "\n",
              "  <style>\n",
              "    .colab-df-container {\n",
              "      display:flex;\n",
              "      gap: 12px;\n",
              "    }\n",
              "\n",
              "    .colab-df-convert {\n",
              "      background-color: #E8F0FE;\n",
              "      border: none;\n",
              "      border-radius: 50%;\n",
              "      cursor: pointer;\n",
              "      display: none;\n",
              "      fill: #1967D2;\n",
              "      height: 32px;\n",
              "      padding: 0 0 0 0;\n",
              "      width: 32px;\n",
              "    }\n",
              "\n",
              "    .colab-df-convert:hover {\n",
              "      background-color: #E2EBFA;\n",
              "      box-shadow: 0px 1px 2px rgba(60, 64, 67, 0.3), 0px 1px 3px 1px rgba(60, 64, 67, 0.15);\n",
              "      fill: #174EA6;\n",
              "    }\n",
              "\n",
              "    .colab-df-buttons div {\n",
              "      margin-bottom: 4px;\n",
              "    }\n",
              "\n",
              "    [theme=dark] .colab-df-convert {\n",
              "      background-color: #3B4455;\n",
              "      fill: #D2E3FC;\n",
              "    }\n",
              "\n",
              "    [theme=dark] .colab-df-convert:hover {\n",
              "      background-color: #434B5C;\n",
              "      box-shadow: 0px 1px 3px 1px rgba(0, 0, 0, 0.15);\n",
              "      filter: drop-shadow(0px 1px 2px rgba(0, 0, 0, 0.3));\n",
              "      fill: #FFFFFF;\n",
              "    }\n",
              "  </style>\n",
              "\n",
              "    <script>\n",
              "      const buttonEl =\n",
              "        document.querySelector('#df-e0ffab58-ba1a-461c-96f8-a010e0c9532a button.colab-df-convert');\n",
              "      buttonEl.style.display =\n",
              "        google.colab.kernel.accessAllowed ? 'block' : 'none';\n",
              "\n",
              "      async function convertToInteractive(key) {\n",
              "        const element = document.querySelector('#df-e0ffab58-ba1a-461c-96f8-a010e0c9532a');\n",
              "        const dataTable =\n",
              "          await google.colab.kernel.invokeFunction('convertToInteractive',\n",
              "                                                    [key], {});\n",
              "        if (!dataTable) return;\n",
              "\n",
              "        const docLinkHtml = 'Like what you see? Visit the ' +\n",
              "          '<a target=\"_blank\" href=https://colab.research.google.com/notebooks/data_table.ipynb>data table notebook</a>'\n",
              "          + ' to learn more about interactive tables.';\n",
              "        element.innerHTML = '';\n",
              "        dataTable['output_type'] = 'display_data';\n",
              "        await google.colab.output.renderOutput(dataTable, element);\n",
              "        const docLink = document.createElement('div');\n",
              "        docLink.innerHTML = docLinkHtml;\n",
              "        element.appendChild(docLink);\n",
              "      }\n",
              "    </script>\n",
              "  </div>\n",
              "\n",
              "\n",
              "<div id=\"df-86543442-792f-4b68-9fb6-69e2022c8f58\">\n",
              "  <button class=\"colab-df-quickchart\" onclick=\"quickchart('df-86543442-792f-4b68-9fb6-69e2022c8f58')\"\n",
              "            title=\"Suggest charts\"\n",
              "            style=\"display:none;\">\n",
              "\n",
              "<svg xmlns=\"http://www.w3.org/2000/svg\" height=\"24px\"viewBox=\"0 0 24 24\"\n",
              "     width=\"24px\">\n",
              "    <g>\n",
              "        <path d=\"M19 3H5c-1.1 0-2 .9-2 2v14c0 1.1.9 2 2 2h14c1.1 0 2-.9 2-2V5c0-1.1-.9-2-2-2zM9 17H7v-7h2v7zm4 0h-2V7h2v10zm4 0h-2v-4h2v4z\"/>\n",
              "    </g>\n",
              "</svg>\n",
              "  </button>\n",
              "\n",
              "<style>\n",
              "  .colab-df-quickchart {\n",
              "      --bg-color: #E8F0FE;\n",
              "      --fill-color: #1967D2;\n",
              "      --hover-bg-color: #E2EBFA;\n",
              "      --hover-fill-color: #174EA6;\n",
              "      --disabled-fill-color: #AAA;\n",
              "      --disabled-bg-color: #DDD;\n",
              "  }\n",
              "\n",
              "  [theme=dark] .colab-df-quickchart {\n",
              "      --bg-color: #3B4455;\n",
              "      --fill-color: #D2E3FC;\n",
              "      --hover-bg-color: #434B5C;\n",
              "      --hover-fill-color: #FFFFFF;\n",
              "      --disabled-bg-color: #3B4455;\n",
              "      --disabled-fill-color: #666;\n",
              "  }\n",
              "\n",
              "  .colab-df-quickchart {\n",
              "    background-color: var(--bg-color);\n",
              "    border: none;\n",
              "    border-radius: 50%;\n",
              "    cursor: pointer;\n",
              "    display: none;\n",
              "    fill: var(--fill-color);\n",
              "    height: 32px;\n",
              "    padding: 0;\n",
              "    width: 32px;\n",
              "  }\n",
              "\n",
              "  .colab-df-quickchart:hover {\n",
              "    background-color: var(--hover-bg-color);\n",
              "    box-shadow: 0 1px 2px rgba(60, 64, 67, 0.3), 0 1px 3px 1px rgba(60, 64, 67, 0.15);\n",
              "    fill: var(--button-hover-fill-color);\n",
              "  }\n",
              "\n",
              "  .colab-df-quickchart-complete:disabled,\n",
              "  .colab-df-quickchart-complete:disabled:hover {\n",
              "    background-color: var(--disabled-bg-color);\n",
              "    fill: var(--disabled-fill-color);\n",
              "    box-shadow: none;\n",
              "  }\n",
              "\n",
              "  .colab-df-spinner {\n",
              "    border: 2px solid var(--fill-color);\n",
              "    border-color: transparent;\n",
              "    border-bottom-color: var(--fill-color);\n",
              "    animation:\n",
              "      spin 1s steps(1) infinite;\n",
              "  }\n",
              "\n",
              "  @keyframes spin {\n",
              "    0% {\n",
              "      border-color: transparent;\n",
              "      border-bottom-color: var(--fill-color);\n",
              "      border-left-color: var(--fill-color);\n",
              "    }\n",
              "    20% {\n",
              "      border-color: transparent;\n",
              "      border-left-color: var(--fill-color);\n",
              "      border-top-color: var(--fill-color);\n",
              "    }\n",
              "    30% {\n",
              "      border-color: transparent;\n",
              "      border-left-color: var(--fill-color);\n",
              "      border-top-color: var(--fill-color);\n",
              "      border-right-color: var(--fill-color);\n",
              "    }\n",
              "    40% {\n",
              "      border-color: transparent;\n",
              "      border-right-color: var(--fill-color);\n",
              "      border-top-color: var(--fill-color);\n",
              "    }\n",
              "    60% {\n",
              "      border-color: transparent;\n",
              "      border-right-color: var(--fill-color);\n",
              "    }\n",
              "    80% {\n",
              "      border-color: transparent;\n",
              "      border-right-color: var(--fill-color);\n",
              "      border-bottom-color: var(--fill-color);\n",
              "    }\n",
              "    90% {\n",
              "      border-color: transparent;\n",
              "      border-bottom-color: var(--fill-color);\n",
              "    }\n",
              "  }\n",
              "</style>\n",
              "\n",
              "  <script>\n",
              "    async function quickchart(key) {\n",
              "      const quickchartButtonEl =\n",
              "        document.querySelector('#' + key + ' button');\n",
              "      quickchartButtonEl.disabled = true;  // To prevent multiple clicks.\n",
              "      quickchartButtonEl.classList.add('colab-df-spinner');\n",
              "      try {\n",
              "        const charts = await google.colab.kernel.invokeFunction(\n",
              "            'suggestCharts', [key], {});\n",
              "      } catch (error) {\n",
              "        console.error('Error during call to suggestCharts:', error);\n",
              "      }\n",
              "      quickchartButtonEl.classList.remove('colab-df-spinner');\n",
              "      quickchartButtonEl.classList.add('colab-df-quickchart-complete');\n",
              "    }\n",
              "    (() => {\n",
              "      let quickchartButtonEl =\n",
              "        document.querySelector('#df-86543442-792f-4b68-9fb6-69e2022c8f58 button');\n",
              "      quickchartButtonEl.style.display =\n",
              "        google.colab.kernel.accessAllowed ? 'block' : 'none';\n",
              "    })();\n",
              "  </script>\n",
              "</div>\n",
              "    </div>\n",
              "  </div>\n"
            ]
          },
          "metadata": {},
          "execution_count": 39
        }
      ],
      "source": [
        "dfa.describe().T"
      ]
    },
    {
      "cell_type": "code",
      "source": [
        "dfc.info()"
      ],
      "metadata": {
        "colab": {
          "base_uri": "https://localhost:8080/"
        },
        "id": "VohViQ1WAe08",
        "outputId": "304ae97b-312f-4190-dd1f-9bd567286cde"
      },
      "execution_count": null,
      "outputs": [
        {
          "output_type": "stream",
          "name": "stdout",
          "text": [
            "<class 'pandas.core.frame.DataFrame'>\n",
            "RangeIndex: 2039259 entries, 0 to 2039258\n",
            "Data columns (total 13 columns):\n",
            " #   Column                         Dtype  \n",
            "---  ------                         -----  \n",
            " 0   CRASH DATE                     object \n",
            " 1   CRASH TIME                     object \n",
            " 2   BOROUGH                        int64  \n",
            " 3   NUMBER OF PERSONS INJURED      float64\n",
            " 4   NUMBER OF PERSONS KILLED       float64\n",
            " 5   NUMBER OF PEDESTRIANS INJURED  int64  \n",
            " 6   NUMBER OF PEDESTRIANS KILLED   int64  \n",
            " 7   NUMBER OF CYCLIST INJURED      int64  \n",
            " 8   NUMBER OF CYCLIST KILLED       int64  \n",
            " 9   NUMBER OF MOTORIST INJURED     int64  \n",
            " 10  NUMBER OF MOTORIST KILLED      int64  \n",
            " 11  NUMBER OF VEHICLES IN CRASH    int64  \n",
            " 12  REFERENCE STREET               object \n",
            "dtypes: float64(2), int64(8), object(3)\n",
            "memory usage: 202.3+ MB\n"
          ]
        }
      ]
    },
    {
      "cell_type": "code",
      "source": [
        "dfc = dfc.dropna()"
      ],
      "metadata": {
        "id": "8lmrlkZ-DreY"
      },
      "execution_count": null,
      "outputs": []
    },
    {
      "cell_type": "code",
      "source": [
        "dfp.info()"
      ],
      "metadata": {
        "colab": {
          "base_uri": "https://localhost:8080/"
        },
        "id": "RpYrfkxNAsG-",
        "outputId": "ae10a1b4-97fc-4ef2-ef69-3f21de641702"
      },
      "execution_count": null,
      "outputs": [
        {
          "output_type": "stream",
          "name": "stdout",
          "text": [
            "<class 'pandas.core.frame.DataFrame'>\n",
            "RangeIndex: 5193416 entries, 0 to 5193415\n",
            "Data columns (total 12 columns):\n",
            " #   Column               Dtype  \n",
            "---  ------               -----  \n",
            " 0   CRASH_DATE           object \n",
            " 1   CRASH_TIME           object \n",
            " 2   PERSON_TYPE          int64  \n",
            " 3   PERSON_INJURY        int64  \n",
            " 4   PERSON_AGE           float64\n",
            " 5   EMOTIONAL_STATUS     int64  \n",
            " 6   BODILY_INJURY        int64  \n",
            " 7   POSITION_IN_VEHICLE  int64  \n",
            " 8   SAFETY_EQUIPMENT     int64  \n",
            " 9   COMPLAINT            int64  \n",
            " 10  PED_ROLE             float64\n",
            " 11  PERSON_SEX           int64  \n",
            "dtypes: float64(2), int64(8), object(2)\n",
            "memory usage: 475.5+ MB\n"
          ]
        }
      ]
    },
    {
      "cell_type": "code",
      "source": [
        "dfa.info()"
      ],
      "metadata": {
        "colab": {
          "base_uri": "https://localhost:8080/"
        },
        "id": "TTOeqTmTAvbK",
        "outputId": "143ee255-6c76-4182-f70d-e9648dbac993"
      },
      "execution_count": null,
      "outputs": [
        {
          "output_type": "stream",
          "name": "stdout",
          "text": [
            "<class 'pandas.core.frame.DataFrame'>\n",
            "RangeIndex: 5467074 entries, 0 to 5467073\n",
            "Data columns (total 9 columns):\n",
            " #   Column             Dtype  \n",
            "---  ------             -----  \n",
            " 0   ARREST_DATE        object \n",
            " 1   OFNS_DESC          float64\n",
            " 2   LAW_CAT_CD         int64  \n",
            " 3   ARREST_BORO        int64  \n",
            " 4   ARREST_PRECINCT    float64\n",
            " 5   JURISDICTION_CODE  int64  \n",
            " 6   AGE_GROUP          int64  \n",
            " 7   PERP_SEX           int64  \n",
            " 8   PERP_RACE          int64  \n",
            "dtypes: float64(2), int64(6), object(1)\n",
            "memory usage: 375.4+ MB\n"
          ]
        }
      ]
    },
    {
      "cell_type": "code",
      "source": [
        "dfa = dfa.dropna()\n"
      ],
      "metadata": {
        "id": "FlAYG28G3ml4"
      },
      "execution_count": null,
      "outputs": []
    },
    {
      "cell_type": "markdown",
      "metadata": {
        "application/vnd.databricks.v1+cell": {
          "cellMetadata": {
            "byteLimit": 2048000,
            "rowLimit": 10000
          },
          "inputWidgets": {},
          "nuid": "4b127d49-fecd-4a0f-96cf-008d8a6e520d",
          "showTitle": false,
          "title": ""
        },
        "id": "hxkRHxTO8GVk"
      },
      "source": [
        "##Preparación de los datos para el modelado"
      ]
    },
    {
      "cell_type": "markdown",
      "metadata": {
        "application/vnd.databricks.v1+cell": {
          "cellMetadata": {
            "byteLimit": 2048000,
            "rowLimit": 10000
          },
          "inputWidgets": {},
          "nuid": "9e2dd2e6-cc6b-4adb-b9de-f1b9f7bff28f",
          "showTitle": false,
          "title": ""
        },
        "id": "hJkaZloV8GVk"
      },
      "source": [
        "**Normalización de variables numéricas:**\n",
        "\n",
        "No se necesito realizar nomalización, ya que la mayoria de datos eran de tipo categoricos y se convirtieron a numeros, por lo cual no existen valores que necesiten ser normalizados."
      ]
    },
    {
      "cell_type": "markdown",
      "metadata": {
        "application/vnd.databricks.v1+cell": {
          "cellMetadata": {
            "byteLimit": 2048000,
            "rowLimit": 10000
          },
          "inputWidgets": {},
          "nuid": "dbd375c6-af58-4781-ad35-a74086532815",
          "showTitle": false,
          "title": ""
        },
        "id": "QNqNbVHx8GVk"
      },
      "source": [
        "**Selección de variables según criterio de negocio:**\n",
        "\n",
        "- Para el _DataFrame Colisiones Choques_ la columna objetivo es NUMBER OF PERSONS INJURED fue la seleccionada, ya que si se logra predecir y evitar personas heridas, se logran evitar choques, muertes etc. Y no se utilizaran la columnas CRASH DATA, CRASH TIME y REFERENCE STREET, ya que son variables de tiempo y ubicación que no se necesitan para el modelado.\n",
        "- Para el _DataFrame Colisiones Personas_ la columna objetivo es PERSON_INJURY, ya que por sus carectristicas podemos determinar si salio herida, muerta. Y no se utilizaran la columnas CRASH DATA y  CRASH TIME, ya que son variables de tiempo y ubicación que no se necesitan para el modelado.\n",
        "- Para el _DataFrame Arrestos_ la columna objetivo es ARRST_BORO, y con este se quiere mirar en que lugar de NYC se cometen más arrestos, lo cual traduce mayores indices de criminalidad, y al saber donde es se pueden enviar o solicitar un mayor número de polícias."
      ]
    },
    {
      "cell_type": "markdown",
      "metadata": {
        "application/vnd.databricks.v1+cell": {
          "cellMetadata": {
            "byteLimit": 2048000,
            "rowLimit": 10000
          },
          "inputWidgets": {},
          "nuid": "329dbd88-894c-4e9d-88f0-b18d9e202627",
          "showTitle": false,
          "title": ""
        },
        "id": "UcHZJeVq8GVk"
      },
      "source": [
        "##Técnicas de aprendizaje de máquina supervisado\n"
      ]
    },
    {
      "cell_type": "markdown",
      "source": [
        "**División de los datos de entrenamiento y prueba**\n",
        "\n",
        "**Datos del _Dataframe Colisiones Choques_**"
      ],
      "metadata": {
        "id": "GwC-vRCLe6ar"
      }
    },
    {
      "cell_type": "code",
      "source": [
        "columns_delete_1 = ['NUMBER OF PERSONS INJURED','CRASH DATE', 'CRASH TIME', 'REFERENCE STREET']\n",
        "\n",
        "X_1= dfc.drop(columns_delete_1, axis=1)\n",
        "y_1=dfc['NUMBER OF PERSONS INJURED']\n",
        "\n",
        "X_train, X_test, y_train, y_test = train_test_split(\n",
        "  X_1,y_1 , random_state=104,test_size=0.20, shuffle=True)"
      ],
      "metadata": {
        "id": "n0xeMVtZe7Pj"
      },
      "execution_count": null,
      "outputs": []
    },
    {
      "cell_type": "markdown",
      "source": [
        "**División de los datos de entrenamiento y prueba**\n",
        "\n",
        "**Datos del _Dataframe Colisiones Personas_**"
      ],
      "metadata": {
        "id": "6aQUxXSEejEl"
      }
    },
    {
      "cell_type": "code",
      "source": [
        "dfp['PERSON_AGE'].fillna(dfp['PERSON_AGE'].mean(), inplace=True)\n",
        "\n",
        "# Rellena los valores nulos en la columna PED_ROLE con \"Other\""
      ],
      "metadata": {
        "id": "fp4UaawrlaVG"
      },
      "execution_count": null,
      "outputs": []
    },
    {
      "cell_type": "code",
      "execution_count": null,
      "metadata": {
        "application/vnd.databricks.v1+cell": {
          "cellMetadata": {
            "byteLimit": 2048000,
            "rowLimit": 10000
          },
          "inputWidgets": {},
          "nuid": "f8535988-c9cc-4bb0-9a91-ab12370b20e4",
          "showTitle": false,
          "title": ""
        },
        "id": "TXMBM3-Y8GVl"
      },
      "outputs": [],
      "source": [
        "columns_delete = ['PERSON_INJURY','CRASH_DATE','CRASH_TIME','PED_ROLE']\n",
        "\n",
        "X_2= dfp.drop(columns_delete, axis=1)\n",
        "y_2=dfp['PERSON_INJURY']\n",
        "\n",
        "X_train_2, X_test_2, y_train_2, y_test_2 = train_test_split(\n",
        "  X_2,y_2 , random_state=104,test_size=0.20, shuffle=True)"
      ]
    },
    {
      "cell_type": "markdown",
      "source": [
        "**División de los datos de entrenamiento y prueba**\n",
        "\n",
        "**Datos del _Dataframe Arrestos_**"
      ],
      "metadata": {
        "id": "SoAkT8rwfPZE"
      }
    },
    {
      "cell_type": "code",
      "source": [
        "\n",
        "columns_delete = ['ARREST_DATE','ARREST_BORO']\n",
        "\n",
        "X_3= dfa.drop(columns_delete, axis=1)\n",
        "y_3=dfa['ARREST_BORO']\n",
        "\n",
        "X_train_3, X_test_3, y_train_3, y_test_3 = train_test_split(\n",
        "  X_3,y_3 , random_state=104,test_size=0.20, shuffle=True)"
      ],
      "metadata": {
        "id": "KeI4RJCKfP7m"
      },
      "execution_count": null,
      "outputs": []
    },
    {
      "cell_type": "markdown",
      "metadata": {
        "application/vnd.databricks.v1+cell": {
          "cellMetadata": {
            "byteLimit": 2048000,
            "rowLimit": 10000
          },
          "inputWidgets": {},
          "nuid": "1fd0a605-0603-4f50-860b-00ce467c2924",
          "showTitle": false,
          "title": ""
        },
        "id": "UTvWeuKm8GVl"
      },
      "source": [
        "**La primer técnica que se va autilizar pertenece al grupo aprendizaje de máquina supervisado.**\n",
        "\n",
        "Clasificación:\n",
        "\n",
        "1. _Regresión Logística_\n"
      ]
    },
    {
      "cell_type": "code",
      "source": [
        "# Crear y entrenar el modelo de regresión logística\n",
        "logistic_model_1 = LogisticRegression(random_state=42)\n",
        "logistic_model_1.fit(X_train, y_train)\n",
        "\n",
        "# Hacer predicciones en el conjunto de prueba\n",
        "y_pred_logistic_1 = logistic_model_1.predict(X_test)\n",
        "\n",
        "# Calcular métricas y matriz de confusión\n",
        "accuracy_logistic_1 = accuracy_score(y_test, y_pred_logistic_1)\n",
        "classification_rep_logistic_1 = classification_report(y_test, y_pred_logistic_1)\n",
        "confusion_matrix_data_logistic_1 = confusion_matrix(y_test, y_pred_logistic_1)\n",
        "\n",
        "# Mostrar resultados\n",
        "print(\"Métricas del Modelo de Regresión Logística:\")\n",
        "print(classification_rep_logistic_1)\n",
        "print('Accuracy Score: {}'.format(round(accuracy_logistic_1, 4)))\n",
        "\n",
        "# Visualizar la matriz de confusión\n",
        "display_logistic_1 = ConfusionMatrixDisplay(confusion_matrix=confusion_matrix_data_logistic_1, display_labels=logistic_model_1.classes_)\n",
        "display_logistic_1.plot(cmap='Blues')\n",
        "plt.title(\"Matriz de Confusión del Modelo de Regresión Logística\")\n",
        "plt.show()\n"
      ],
      "metadata": {
        "colab": {
          "base_uri": "https://localhost:8080/",
          "height": 1000
        },
        "id": "5HXSXCus7TYJ",
        "outputId": "6fdacf59-252d-4958-b55b-b54563c891b5"
      },
      "execution_count": null,
      "outputs": [
        {
          "output_type": "stream",
          "name": "stderr",
          "text": [
            "/usr/local/lib/python3.10/dist-packages/sklearn/linear_model/_logistic.py:458: ConvergenceWarning: lbfgs failed to converge (status=1):\n",
            "STOP: TOTAL NO. of ITERATIONS REACHED LIMIT.\n",
            "\n",
            "Increase the number of iterations (max_iter) or scale the data as shown in:\n",
            "    https://scikit-learn.org/stable/modules/preprocessing.html\n",
            "Please also refer to the documentation for alternative solver options:\n",
            "    https://scikit-learn.org/stable/modules/linear_model.html#logistic-regression\n",
            "  n_iter_i = _check_optimize_result(\n",
            "/usr/local/lib/python3.10/dist-packages/sklearn/metrics/_classification.py:1344: UndefinedMetricWarning: Precision and F-score are ill-defined and being set to 0.0 in labels with no predicted samples. Use `zero_division` parameter to control this behavior.\n",
            "  _warn_prf(average, modifier, msg_start, len(result))\n",
            "/usr/local/lib/python3.10/dist-packages/sklearn/metrics/_classification.py:1344: UndefinedMetricWarning: Recall and F-score are ill-defined and being set to 0.0 in labels with no true samples. Use `zero_division` parameter to control this behavior.\n",
            "  _warn_prf(average, modifier, msg_start, len(result))\n",
            "/usr/local/lib/python3.10/dist-packages/sklearn/metrics/_classification.py:1344: UndefinedMetricWarning: Precision and F-score are ill-defined and being set to 0.0 in labels with no predicted samples. Use `zero_division` parameter to control this behavior.\n",
            "  _warn_prf(average, modifier, msg_start, len(result))\n",
            "/usr/local/lib/python3.10/dist-packages/sklearn/metrics/_classification.py:1344: UndefinedMetricWarning: Recall and F-score are ill-defined and being set to 0.0 in labels with no true samples. Use `zero_division` parameter to control this behavior.\n",
            "  _warn_prf(average, modifier, msg_start, len(result))\n",
            "/usr/local/lib/python3.10/dist-packages/sklearn/metrics/_classification.py:1344: UndefinedMetricWarning: Precision and F-score are ill-defined and being set to 0.0 in labels with no predicted samples. Use `zero_division` parameter to control this behavior.\n",
            "  _warn_prf(average, modifier, msg_start, len(result))\n",
            "/usr/local/lib/python3.10/dist-packages/sklearn/metrics/_classification.py:1344: UndefinedMetricWarning: Recall and F-score are ill-defined and being set to 0.0 in labels with no true samples. Use `zero_division` parameter to control this behavior.\n",
            "  _warn_prf(average, modifier, msg_start, len(result))\n"
          ]
        },
        {
          "output_type": "stream",
          "name": "stdout",
          "text": [
            "Métricas del Modelo de Regresión Logística:\n",
            "              precision    recall  f1-score   support\n",
            "\n",
            "         0.0       1.00      1.00      1.00    315991\n",
            "         1.0       1.00      0.98      0.99     71373\n",
            "         2.0       1.00      0.99      0.99     13418\n",
            "         3.0       1.00      0.98      0.99      4319\n",
            "         4.0       0.72      0.95      0.82      1590\n",
            "         5.0       0.00      0.00      0.00       653\n",
            "         6.0       0.00      0.00      0.00       273\n",
            "         7.0       0.17      0.26      0.21       117\n",
            "         8.0       0.00      0.00      0.00        38\n",
            "         9.0       0.00      0.00      0.00        26\n",
            "        10.0       0.20      0.06      0.10        16\n",
            "        11.0       0.00      0.00      0.00         8\n",
            "        12.0       0.00      0.00      0.00         8\n",
            "        13.0       0.00      0.00      0.00         6\n",
            "        14.0       0.00      0.00      0.00         2\n",
            "        15.0       0.00      0.00      0.00         1\n",
            "        17.0       0.00      0.00      0.00         0\n",
            "        18.0       0.00      0.00      0.00         1\n",
            "        21.0       0.00      0.00      0.00         1\n",
            "        22.0       0.00      0.00      0.00         1\n",
            "        24.0       0.00      0.00      0.00         2\n",
            "        31.0       0.00      0.00      0.00         1\n",
            "\n",
            "    accuracy                           0.99    407845\n",
            "   macro avg       0.23      0.24      0.23    407845\n",
            "weighted avg       0.99      0.99      0.99    407845\n",
            "\n",
            "Accuracy Score: 0.9936\n"
          ]
        },
        {
          "output_type": "error",
          "ename": "ValueError",
          "evalue": "ignored",
          "traceback": [
            "\u001b[0;31m---------------------------------------------------------------------------\u001b[0m",
            "\u001b[0;31mValueError\u001b[0m                                Traceback (most recent call last)",
            "\u001b[0;32m<ipython-input-60-d77ee12ba1c9>\u001b[0m in \u001b[0;36m<cell line: 20>\u001b[0;34m()\u001b[0m\n\u001b[1;32m     18\u001b[0m \u001b[0;31m# Visualizar la matriz de confusión\u001b[0m\u001b[0;34m\u001b[0m\u001b[0;34m\u001b[0m\u001b[0m\n\u001b[1;32m     19\u001b[0m \u001b[0mdisplay_logistic_1\u001b[0m \u001b[0;34m=\u001b[0m \u001b[0mConfusionMatrixDisplay\u001b[0m\u001b[0;34m(\u001b[0m\u001b[0mconfusion_matrix\u001b[0m\u001b[0;34m=\u001b[0m\u001b[0mconfusion_matrix_data_logistic_1\u001b[0m\u001b[0;34m,\u001b[0m \u001b[0mdisplay_labels\u001b[0m\u001b[0;34m=\u001b[0m\u001b[0mlogistic_model_1\u001b[0m\u001b[0;34m.\u001b[0m\u001b[0mclasses_\u001b[0m\u001b[0;34m)\u001b[0m\u001b[0;34m\u001b[0m\u001b[0;34m\u001b[0m\u001b[0m\n\u001b[0;32m---> 20\u001b[0;31m \u001b[0mdisplay_logistic_1\u001b[0m\u001b[0;34m.\u001b[0m\u001b[0mplot\u001b[0m\u001b[0;34m(\u001b[0m\u001b[0mcmap\u001b[0m\u001b[0;34m=\u001b[0m\u001b[0;34m'Blues'\u001b[0m\u001b[0;34m)\u001b[0m\u001b[0;34m\u001b[0m\u001b[0;34m\u001b[0m\u001b[0m\n\u001b[0m\u001b[1;32m     21\u001b[0m \u001b[0mplt\u001b[0m\u001b[0;34m.\u001b[0m\u001b[0mtitle\u001b[0m\u001b[0;34m(\u001b[0m\u001b[0;34m\"Matriz de Confusión del Modelo de Regresión Logística\"\u001b[0m\u001b[0;34m)\u001b[0m\u001b[0;34m\u001b[0m\u001b[0;34m\u001b[0m\u001b[0m\n\u001b[1;32m     22\u001b[0m \u001b[0mplt\u001b[0m\u001b[0;34m.\u001b[0m\u001b[0mshow\u001b[0m\u001b[0;34m(\u001b[0m\u001b[0;34m)\u001b[0m\u001b[0;34m\u001b[0m\u001b[0;34m\u001b[0m\u001b[0m\n",
            "\u001b[0;32m/usr/local/lib/python3.10/dist-packages/sklearn/metrics/_plot/confusion_matrix.py\u001b[0m in \u001b[0;36mplot\u001b[0;34m(self, include_values, cmap, xticks_rotation, values_format, ax, colorbar, im_kw, text_kw)\u001b[0m\n\u001b[1;32m    179\u001b[0m         \u001b[0;32mif\u001b[0m \u001b[0mcolorbar\u001b[0m\u001b[0;34m:\u001b[0m\u001b[0;34m\u001b[0m\u001b[0;34m\u001b[0m\u001b[0m\n\u001b[1;32m    180\u001b[0m             \u001b[0mfig\u001b[0m\u001b[0;34m.\u001b[0m\u001b[0mcolorbar\u001b[0m\u001b[0;34m(\u001b[0m\u001b[0mself\u001b[0m\u001b[0;34m.\u001b[0m\u001b[0mim_\u001b[0m\u001b[0;34m,\u001b[0m \u001b[0max\u001b[0m\u001b[0;34m=\u001b[0m\u001b[0max\u001b[0m\u001b[0;34m)\u001b[0m\u001b[0;34m\u001b[0m\u001b[0;34m\u001b[0m\u001b[0m\n\u001b[0;32m--> 181\u001b[0;31m         ax.set(\n\u001b[0m\u001b[1;32m    182\u001b[0m             \u001b[0mxticks\u001b[0m\u001b[0;34m=\u001b[0m\u001b[0mnp\u001b[0m\u001b[0;34m.\u001b[0m\u001b[0marange\u001b[0m\u001b[0;34m(\u001b[0m\u001b[0mn_classes\u001b[0m\u001b[0;34m)\u001b[0m\u001b[0;34m,\u001b[0m\u001b[0;34m\u001b[0m\u001b[0;34m\u001b[0m\u001b[0m\n\u001b[1;32m    183\u001b[0m             \u001b[0myticks\u001b[0m\u001b[0;34m=\u001b[0m\u001b[0mnp\u001b[0m\u001b[0;34m.\u001b[0m\u001b[0marange\u001b[0m\u001b[0;34m(\u001b[0m\u001b[0mn_classes\u001b[0m\u001b[0;34m)\u001b[0m\u001b[0;34m,\u001b[0m\u001b[0;34m\u001b[0m\u001b[0;34m\u001b[0m\u001b[0m\n",
            "\u001b[0;32m/usr/local/lib/python3.10/dist-packages/matplotlib/artist.py\u001b[0m in \u001b[0;36m<lambda>\u001b[0;34m(self, **kwargs)\u001b[0m\n\u001b[1;32m    145\u001b[0m             \u001b[0;32mreturn\u001b[0m\u001b[0;34m\u001b[0m\u001b[0;34m\u001b[0m\u001b[0m\n\u001b[1;32m    146\u001b[0m \u001b[0;34m\u001b[0m\u001b[0m\n\u001b[0;32m--> 147\u001b[0;31m         \u001b[0mcls\u001b[0m\u001b[0;34m.\u001b[0m\u001b[0mset\u001b[0m \u001b[0;34m=\u001b[0m \u001b[0;32mlambda\u001b[0m \u001b[0mself\u001b[0m\u001b[0;34m,\u001b[0m \u001b[0;34m**\u001b[0m\u001b[0mkwargs\u001b[0m\u001b[0;34m:\u001b[0m \u001b[0mArtist\u001b[0m\u001b[0;34m.\u001b[0m\u001b[0mset\u001b[0m\u001b[0;34m(\u001b[0m\u001b[0mself\u001b[0m\u001b[0;34m,\u001b[0m \u001b[0;34m**\u001b[0m\u001b[0mkwargs\u001b[0m\u001b[0;34m)\u001b[0m\u001b[0;34m\u001b[0m\u001b[0;34m\u001b[0m\u001b[0m\n\u001b[0m\u001b[1;32m    148\u001b[0m         \u001b[0mcls\u001b[0m\u001b[0;34m.\u001b[0m\u001b[0mset\u001b[0m\u001b[0;34m.\u001b[0m\u001b[0m__name__\u001b[0m \u001b[0;34m=\u001b[0m \u001b[0;34m\"set\"\u001b[0m\u001b[0;34m\u001b[0m\u001b[0;34m\u001b[0m\u001b[0m\n\u001b[1;32m    149\u001b[0m         \u001b[0mcls\u001b[0m\u001b[0;34m.\u001b[0m\u001b[0mset\u001b[0m\u001b[0;34m.\u001b[0m\u001b[0m__qualname__\u001b[0m \u001b[0;34m=\u001b[0m \u001b[0;34mf\"{cls.__qualname__}.set\"\u001b[0m\u001b[0;34m\u001b[0m\u001b[0;34m\u001b[0m\u001b[0m\n",
            "\u001b[0;32m/usr/local/lib/python3.10/dist-packages/matplotlib/artist.py\u001b[0m in \u001b[0;36mset\u001b[0;34m(self, **kwargs)\u001b[0m\n\u001b[1;32m   1229\u001b[0m         \u001b[0;31m# Artist._update_set_signature_and_docstring() at the end of the\u001b[0m\u001b[0;34m\u001b[0m\u001b[0;34m\u001b[0m\u001b[0m\n\u001b[1;32m   1230\u001b[0m         \u001b[0;31m# module.\u001b[0m\u001b[0;34m\u001b[0m\u001b[0;34m\u001b[0m\u001b[0m\n\u001b[0;32m-> 1231\u001b[0;31m         \u001b[0;32mreturn\u001b[0m \u001b[0mself\u001b[0m\u001b[0;34m.\u001b[0m\u001b[0m_internal_update\u001b[0m\u001b[0;34m(\u001b[0m\u001b[0mcbook\u001b[0m\u001b[0;34m.\u001b[0m\u001b[0mnormalize_kwargs\u001b[0m\u001b[0;34m(\u001b[0m\u001b[0mkwargs\u001b[0m\u001b[0;34m,\u001b[0m \u001b[0mself\u001b[0m\u001b[0;34m)\u001b[0m\u001b[0;34m)\u001b[0m\u001b[0;34m\u001b[0m\u001b[0;34m\u001b[0m\u001b[0m\n\u001b[0m\u001b[1;32m   1232\u001b[0m \u001b[0;34m\u001b[0m\u001b[0m\n\u001b[1;32m   1233\u001b[0m     \u001b[0;34m@\u001b[0m\u001b[0mcontextlib\u001b[0m\u001b[0;34m.\u001b[0m\u001b[0mcontextmanager\u001b[0m\u001b[0;34m\u001b[0m\u001b[0;34m\u001b[0m\u001b[0m\n",
            "\u001b[0;32m/usr/local/lib/python3.10/dist-packages/matplotlib/artist.py\u001b[0m in \u001b[0;36m_internal_update\u001b[0;34m(self, kwargs)\u001b[0m\n\u001b[1;32m   1221\u001b[0m         \u001b[0mThe\u001b[0m \u001b[0mlack\u001b[0m \u001b[0mof\u001b[0m \u001b[0mprenormalization\u001b[0m \u001b[0;32mis\u001b[0m \u001b[0mto\u001b[0m \u001b[0mmaintain\u001b[0m \u001b[0mbackcompatibility\u001b[0m\u001b[0;34m.\u001b[0m\u001b[0;34m\u001b[0m\u001b[0;34m\u001b[0m\u001b[0m\n\u001b[1;32m   1222\u001b[0m         \"\"\"\n\u001b[0;32m-> 1223\u001b[0;31m         return self._update_props(\n\u001b[0m\u001b[1;32m   1224\u001b[0m             \u001b[0mkwargs\u001b[0m\u001b[0;34m,\u001b[0m \u001b[0;34m\"{cls.__name__}.set() got an unexpected keyword argument \"\u001b[0m\u001b[0;34m\u001b[0m\u001b[0;34m\u001b[0m\u001b[0m\n\u001b[1;32m   1225\u001b[0m             \"{prop_name!r}\")\n",
            "\u001b[0;32m/usr/local/lib/python3.10/dist-packages/matplotlib/artist.py\u001b[0m in \u001b[0;36m_update_props\u001b[0;34m(self, props, errfmt)\u001b[0m\n\u001b[1;32m   1197\u001b[0m                         raise AttributeError(\n\u001b[1;32m   1198\u001b[0m                             errfmt.format(cls=type(self), prop_name=k))\n\u001b[0;32m-> 1199\u001b[0;31m                     \u001b[0mret\u001b[0m\u001b[0;34m.\u001b[0m\u001b[0mappend\u001b[0m\u001b[0;34m(\u001b[0m\u001b[0mfunc\u001b[0m\u001b[0;34m(\u001b[0m\u001b[0mv\u001b[0m\u001b[0;34m)\u001b[0m\u001b[0;34m)\u001b[0m\u001b[0;34m\u001b[0m\u001b[0;34m\u001b[0m\u001b[0m\n\u001b[0m\u001b[1;32m   1200\u001b[0m         \u001b[0;32mif\u001b[0m \u001b[0mret\u001b[0m\u001b[0;34m:\u001b[0m\u001b[0;34m\u001b[0m\u001b[0;34m\u001b[0m\u001b[0m\n\u001b[1;32m   1201\u001b[0m             \u001b[0mself\u001b[0m\u001b[0;34m.\u001b[0m\u001b[0mpchanged\u001b[0m\u001b[0;34m(\u001b[0m\u001b[0;34m)\u001b[0m\u001b[0;34m\u001b[0m\u001b[0;34m\u001b[0m\u001b[0m\n",
            "\u001b[0;32m/usr/local/lib/python3.10/dist-packages/matplotlib/axes/_base.py\u001b[0m in \u001b[0;36mwrapper\u001b[0;34m(self, *args, **kwargs)\u001b[0m\n\u001b[1;32m     72\u001b[0m \u001b[0;34m\u001b[0m\u001b[0m\n\u001b[1;32m     73\u001b[0m         \u001b[0;32mdef\u001b[0m \u001b[0mwrapper\u001b[0m\u001b[0;34m(\u001b[0m\u001b[0mself\u001b[0m\u001b[0;34m,\u001b[0m \u001b[0;34m*\u001b[0m\u001b[0margs\u001b[0m\u001b[0;34m,\u001b[0m \u001b[0;34m**\u001b[0m\u001b[0mkwargs\u001b[0m\u001b[0;34m)\u001b[0m\u001b[0;34m:\u001b[0m\u001b[0;34m\u001b[0m\u001b[0;34m\u001b[0m\u001b[0m\n\u001b[0;32m---> 74\u001b[0;31m             \u001b[0;32mreturn\u001b[0m \u001b[0mget_method\u001b[0m\u001b[0;34m(\u001b[0m\u001b[0mself\u001b[0m\u001b[0;34m)\u001b[0m\u001b[0;34m(\u001b[0m\u001b[0;34m*\u001b[0m\u001b[0margs\u001b[0m\u001b[0;34m,\u001b[0m \u001b[0;34m**\u001b[0m\u001b[0mkwargs\u001b[0m\u001b[0;34m)\u001b[0m\u001b[0;34m\u001b[0m\u001b[0;34m\u001b[0m\u001b[0m\n\u001b[0m\u001b[1;32m     75\u001b[0m \u001b[0;34m\u001b[0m\u001b[0m\n\u001b[1;32m     76\u001b[0m         \u001b[0mwrapper\u001b[0m\u001b[0;34m.\u001b[0m\u001b[0m__module__\u001b[0m \u001b[0;34m=\u001b[0m \u001b[0mowner\u001b[0m\u001b[0;34m.\u001b[0m\u001b[0m__module__\u001b[0m\u001b[0;34m\u001b[0m\u001b[0;34m\u001b[0m\u001b[0m\n",
            "\u001b[0;32m/usr/local/lib/python3.10/dist-packages/matplotlib/_api/deprecation.py\u001b[0m in \u001b[0;36mwrapper\u001b[0;34m(*args, **kwargs)\u001b[0m\n\u001b[1;32m    295\u001b[0m                 f\"for the old name will be dropped %(removal)s.\")\n\u001b[1;32m    296\u001b[0m             \u001b[0mkwargs\u001b[0m\u001b[0;34m[\u001b[0m\u001b[0mnew\u001b[0m\u001b[0;34m]\u001b[0m \u001b[0;34m=\u001b[0m \u001b[0mkwargs\u001b[0m\u001b[0;34m.\u001b[0m\u001b[0mpop\u001b[0m\u001b[0;34m(\u001b[0m\u001b[0mold\u001b[0m\u001b[0;34m)\u001b[0m\u001b[0;34m\u001b[0m\u001b[0;34m\u001b[0m\u001b[0m\n\u001b[0;32m--> 297\u001b[0;31m         \u001b[0;32mreturn\u001b[0m \u001b[0mfunc\u001b[0m\u001b[0;34m(\u001b[0m\u001b[0;34m*\u001b[0m\u001b[0margs\u001b[0m\u001b[0;34m,\u001b[0m \u001b[0;34m**\u001b[0m\u001b[0mkwargs\u001b[0m\u001b[0;34m)\u001b[0m\u001b[0;34m\u001b[0m\u001b[0;34m\u001b[0m\u001b[0m\n\u001b[0m\u001b[1;32m    298\u001b[0m \u001b[0;34m\u001b[0m\u001b[0m\n\u001b[1;32m    299\u001b[0m     \u001b[0;31m# wrapper() must keep the same documented signature as func(): if we\u001b[0m\u001b[0;34m\u001b[0m\u001b[0;34m\u001b[0m\u001b[0m\n",
            "\u001b[0;32m/usr/local/lib/python3.10/dist-packages/matplotlib/axis.py\u001b[0m in \u001b[0;36mset_ticklabels\u001b[0;34m(self, labels, minor, fontdict, **kwargs)\u001b[0m\n\u001b[1;32m   1967\u001b[0m             \u001b[0;31m# remove all tick labels, so only error for > 0 labels\u001b[0m\u001b[0;34m\u001b[0m\u001b[0;34m\u001b[0m\u001b[0m\n\u001b[1;32m   1968\u001b[0m             \u001b[0;32mif\u001b[0m \u001b[0mlen\u001b[0m\u001b[0;34m(\u001b[0m\u001b[0mlocator\u001b[0m\u001b[0;34m.\u001b[0m\u001b[0mlocs\u001b[0m\u001b[0;34m)\u001b[0m \u001b[0;34m!=\u001b[0m \u001b[0mlen\u001b[0m\u001b[0;34m(\u001b[0m\u001b[0mlabels\u001b[0m\u001b[0;34m)\u001b[0m \u001b[0;32mand\u001b[0m \u001b[0mlen\u001b[0m\u001b[0;34m(\u001b[0m\u001b[0mlabels\u001b[0m\u001b[0;34m)\u001b[0m \u001b[0;34m!=\u001b[0m \u001b[0;36m0\u001b[0m\u001b[0;34m:\u001b[0m\u001b[0;34m\u001b[0m\u001b[0;34m\u001b[0m\u001b[0m\n\u001b[0;32m-> 1969\u001b[0;31m                 raise ValueError(\n\u001b[0m\u001b[1;32m   1970\u001b[0m                     \u001b[0;34m\"The number of FixedLocator locations\"\u001b[0m\u001b[0;34m\u001b[0m\u001b[0;34m\u001b[0m\u001b[0m\n\u001b[1;32m   1971\u001b[0m                     \u001b[0;34mf\" ({len(locator.locs)}), usually from a call to\"\u001b[0m\u001b[0;34m\u001b[0m\u001b[0;34m\u001b[0m\u001b[0m\n",
            "\u001b[0;31mValueError\u001b[0m: The number of FixedLocator locations (22), usually from a call to set_ticks, does not match the number of labels (29)."
          ]
        },
        {
          "output_type": "display_data",
          "data": {
            "text/plain": [
              "<Figure size 640x480 with 2 Axes>"
            ],
            "image/png": "[encoded data removed]"
          },
          "metadata": {}
        }
      ]
    },
    {
      "cell_type": "markdown",
      "source": [
        "1. **Precision:**\n",
        "   - Las precisiones varían para cada clase. Las clases '1', '2', '3' y '4' tienen precisiones razonablemente buenas, superando el 70%. Sin embargo, la clase '5' tiene una precisión de 0.00, lo que sugiere que el modelo no ha identificado correctamente ninguna instancia positiva para esa clase. Esto podría deberse a un desbalance de clases o dificultades específicas en la identificación de la clase '5'.\n",
        "\n",
        "2. **Recall:**\n",
        "   - El recall también varía entre clases. Las clases '3' y '4' tienen recalls superiores al 80%, indicando que el modelo identifica bien la mayoría de las instancias positivas para esas clases. Sin embargo, el recall para la clase '5' es 0.00, lo que indica que el modelo no ha identificado correctamente ninguna instancia positiva para esa clase.\n",
        "\n",
        "3. **F1-Score:**\n",
        "   - El F1-score, que es la media armónica ponderada de precisión y recall, refleja un buen equilibrio entre precisión y recall para las clases '1', '2', '3' y '4'. Sin embargo, el F1-score para la clase '5' es 0.00, lo que destaca las dificultades del modelo para manejar esa clase.\n",
        "\n",
        "4. **Accuracy:**\n",
        "   - La precisión global del modelo, medida por la accuracy, es del 79.2%. Es importante tener en cuenta que, dado el desbalance de clases y la dificultad para identificar la clase '5', la accuracy puede no ser la única métrica para evaluar el rendimiento del modelo.\n",
        "\n",
        "En resumen, el modelo parece funcionar bastante bien para las clases '1', '2', '3' y '4', pero tiene dificultades para identificar instancias de la clase '5'."
      ],
      "metadata": {
        "id": "beNgRggs_GD0"
      }
    },
    {
      "cell_type": "code",
      "source": [
        "logistic_model = LogisticRegression(random_state=42)\n",
        "logistic_model.fit(X_train_2, y_train_2)\n",
        "\n",
        "# Hacer predicciones en el conjunto de prueba\n",
        "y_pred_logistic = logistic_model.predict(X_test_2)\n",
        "\n",
        "# Calcular métricas y matriz de confusión\n",
        "accuracy_logistic = accuracy_score(y_test_2, y_pred_logistic)\n",
        "classification_rep_logistic = classification_report(y_test_2, y_pred_logistic)\n",
        "confusion_matrix_data_logistic = confusion_matrix(y_test_2, y_pred_logistic)\n",
        "\n",
        "# Mostrar resultados\n",
        "print(\"Métricas del Modelo de Regresión Logística:\")\n",
        "print(classification_rep_logistic)\n",
        "print('Accuracy Score: {}'.format(round(accuracy_logistic, 4)))\n",
        "\n",
        "# Visualizar la matriz de confusión\n",
        "display_logistic = ConfusionMatrixDisplay(confusion_matrix=confusion_matrix_data_logistic, display_labels=logistic_model.classes_)\n",
        "display_logistic.plot(cmap='Blues')\n",
        "plt.title(\"Matriz de Confusión del Modelo de Regresión Logística\")\n",
        "plt.show()\n"
      ],
      "metadata": {
        "colab": {
          "base_uri": "https://localhost:8080/",
          "height": 819
        },
        "id": "vLeISHPt6Mak",
        "outputId": "6ff16975-6bcd-4e30-f448-f271c5690665"
      },
      "execution_count": null,
      "outputs": [
        {
          "output_type": "stream",
          "name": "stderr",
          "text": [
            "/usr/local/lib/python3.10/dist-packages/sklearn/linear_model/_logistic.py:458: ConvergenceWarning: lbfgs failed to converge (status=1):\n",
            "STOP: TOTAL NO. of ITERATIONS REACHED LIMIT.\n",
            "\n",
            "Increase the number of iterations (max_iter) or scale the data as shown in:\n",
            "    https://scikit-learn.org/stable/modules/preprocessing.html\n",
            "Please also refer to the documentation for alternative solver options:\n",
            "    https://scikit-learn.org/stable/modules/linear_model.html#logistic-regression\n",
            "  n_iter_i = _check_optimize_result(\n"
          ]
        },
        {
          "output_type": "stream",
          "name": "stdout",
          "text": [
            "Métricas del Modelo de Regresión Logística:\n",
            "              precision    recall  f1-score   support\n",
            "\n",
            "           1       0.96      1.00      0.98    913792\n",
            "           2       0.95      0.69      0.80    124306\n",
            "           3       0.00      0.00      0.00       586\n",
            "\n",
            "    accuracy                           0.96   1038684\n",
            "   macro avg       0.64      0.56      0.59   1038684\n",
            "weighted avg       0.96      0.96      0.95   1038684\n",
            "\n",
            "Accuracy Score: 0.958\n"
          ]
        },
        {
          "output_type": "display_data",
          "data": {
            "text/plain": [
              "<Figure size 640x480 with 2 Axes>"
            ],
            "image/png": "[encoded data removed]"
          },
          "metadata": {}
        }
      ]
    },
    {
      "cell_type": "markdown",
      "source": [
        "**Clases:**\n",
        "- Unspecified: 1\n",
        "- Injured: 2\n",
        "- Killed: 3\n",
        "\n",
        "1. **Precision:**\n",
        "   - La precisión mide la proporción de instancias clasificadas positivamente que son realmente positivas. En este caso, la precisión para la clase '1' es alta (0.96), lo que indica que la mayoría de las instancias clasificadas como '1' son verdaderamente '1'. Sin embargo, la precisión para la clase '2' es un poco menor (0.95), y es muy baja para la clase '3' (0.00). Esto sugiere que el modelo puede tener dificultades para identificar correctamente la clase '3'.\n",
        "\n",
        "2. **Recall:**\n",
        "   - Recall (o sensibilidad) mide la proporción de instancias positivas que fueron correctamente identificadas por el modelo. El recall para la clase '1' es alto (1.00), lo que significa que el modelo identifica casi todas las instancias verdaderamente positivas de la clase '1'. Sin embargo, el recall para la clase '2' es más bajo (0.69), indicando que el modelo podría estar perdiendo algunas instancias positivas de la clase '2'. Además, el recall para la clase '3' es también bajo (0.00), lo que sugiere que el modelo no está identificando correctamente instancias de la clase '3'.\n",
        "\n",
        "3. **F1-Score:**\n",
        "   - El F1-score es la media armónica ponderada de precisión y recall. Para la clase '1', el F1-score es alto (0.98), indicando un buen equilibrio entre precisión y recall. Sin embargo, el F1-score es más bajo para la clase '2' (0.80) y es cero para la clase '3', lo que indica que el modelo tiene dificultades para realizar un equilibrio entre precisión y recall para estas clases.\n",
        "\n",
        "4. **Accuracy:**\n",
        "   - La precisión general del modelo, medida por la accuracy, es alta (0.96). Sin embargo, dado que el conjunto de datos puede tener clases desbalanceadas (como se refleja en el bajo recall para la clase '2' y '3'), la accuracy puede no ser la única métrica para evaluar el rendimiento del modelo.\n",
        "\n"
      ],
      "metadata": {
        "id": "srfv381zrNbC"
      }
    },
    {
      "cell_type": "code",
      "source": [
        "# Obtener los coeficientes y los nombres de las características\n",
        "coeficients = logistic_model.coef_[0]\n",
        "feature_names = X_train_2.columns\n",
        "\n",
        "# Crear un DataFrame para visualizar los coeficientes\n",
        "coef_df = pd.DataFrame({'Feature': feature_names, 'Coefficient': coeficients})\n",
        "\n",
        "# Ordenar los coeficientes por valor absoluto\n",
        "coef_df['Abs_Coefficient'] = np.abs(coef_df['Coefficient'])\n",
        "coef_df = coef_df.sort_values(by='Abs_Coefficient', ascending=False)\n",
        "\n",
        "# Visualizar los coeficientes\n",
        "plt.figure(figsize=(10, 6))\n",
        "plt.barh(coef_df['Feature'], coef_df['Coefficient'], color='skyblue')\n",
        "plt.xlabel('Coefficient Value')\n",
        "plt.ylabel('Feature')\n",
        "plt.title('Logistic Regression Coefficients')\n",
        "plt.show()\n"
      ],
      "metadata": {
        "colab": {
          "base_uri": "https://localhost:8080/",
          "height": 564
        },
        "id": "utny5_yFs67C",
        "outputId": "0254523f-581a-4eac-f70d-b93db7bcd463"
      },
      "execution_count": null,
      "outputs": [
        {
          "output_type": "display_data",
          "data": {
            "text/plain": [
              "<Figure size 1000x600 with 1 Axes>"
            ],
            "image/png": "[encoded data removed]"
          },
          "metadata": {}
        }
      ]
    },
    {
      "cell_type": "code",
      "source": [
        "columns_delete = ['ARREST_DATE', 'ARREST_BORO']\n",
        "X_3 = dfa.drop(columns_delete, axis=1)\n",
        "y_3 = dfa['ARREST_BORO']\n",
        "\n",
        "# División de datos\n",
        "X_train, X_test, y_train, y_test = train_test_split(\n",
        "    X_3, y_3, random_state=104, test_size=0.20, shuffle=True\n",
        ")\n",
        "\n",
        "# Crear y entrenar el modelo de regresión logística\n",
        "logistic_model_2 = LogisticRegression(random_state=42)\n",
        "logistic_model_2.fit(X_train_3, y_train_3)\n",
        "\n",
        "# Hacer predicciones en el conjunto de prueba\n",
        "y_pred_logistic_2 = logistic_model_2.predict(X_test)\n",
        "\n",
        "# Calcular métricas y matriz de confusión\n",
        "accuracy_logistic_2 = accuracy_score(y_test, y_pred_logistic_2)\n",
        "classification_rep_logistic_2 = classification_report(y_test, y_pred_logistic_2)\n",
        "confusion_matrix_data_logistic_2 = confusion_matrix(y_test, y_pred_logistic_2)\n",
        "\n",
        "# Mostrar resultados\n",
        "print(\"Métricas del Modelo de Regresión Logística:\")\n",
        "print(classification_rep_logistic_2)\n",
        "print('Accuracy Score: {}'.format(round(accuracy_logistic_2, 4)))\n",
        "\n",
        "# Visualizar la matriz de confusión\n",
        "display_logistic_2 = ConfusionMatrixDisplay(confusion_matrix=confusion_matrix_data_logistic_2, display_labels=logistic_model_2.classes_)\n",
        "display_logistic_2.plot(cmap='Blues')\n",
        "plt.title(\"Matriz de Confusión del Modelo de Regresión Logística\")\n",
        "plt.show()\n"
      ],
      "metadata": {
        "colab": {
          "base_uri": "https://localhost:8080/",
          "height": 978
        },
        "id": "kGjSrTs02ji6",
        "outputId": "c0747053-9b01-44e4-b851-2e874b8966ea"
      },
      "execution_count": null,
      "outputs": [
        {
          "output_type": "stream",
          "name": "stderr",
          "text": [
            "/usr/local/lib/python3.10/dist-packages/sklearn/linear_model/_logistic.py:458: ConvergenceWarning: lbfgs failed to converge (status=1):\n",
            "STOP: TOTAL NO. of ITERATIONS REACHED LIMIT.\n",
            "\n",
            "Increase the number of iterations (max_iter) or scale the data as shown in:\n",
            "    https://scikit-learn.org/stable/modules/preprocessing.html\n",
            "Please also refer to the documentation for alternative solver options:\n",
            "    https://scikit-learn.org/stable/modules/linear_model.html#logistic-regression\n",
            "  n_iter_i = _check_optimize_result(\n",
            "/usr/local/lib/python3.10/dist-packages/sklearn/metrics/_classification.py:1344: UndefinedMetricWarning: Precision and F-score are ill-defined and being set to 0.0 in labels with no predicted samples. Use `zero_division` parameter to control this behavior.\n",
            "  _warn_prf(average, modifier, msg_start, len(result))\n",
            "/usr/local/lib/python3.10/dist-packages/sklearn/metrics/_classification.py:1344: UndefinedMetricWarning: Precision and F-score are ill-defined and being set to 0.0 in labels with no predicted samples. Use `zero_division` parameter to control this behavior.\n",
            "  _warn_prf(average, modifier, msg_start, len(result))\n",
            "/usr/local/lib/python3.10/dist-packages/sklearn/metrics/_classification.py:1344: UndefinedMetricWarning: Precision and F-score are ill-defined and being set to 0.0 in labels with no predicted samples. Use `zero_division` parameter to control this behavior.\n",
            "  _warn_prf(average, modifier, msg_start, len(result))\n"
          ]
        },
        {
          "output_type": "stream",
          "name": "stdout",
          "text": [
            "Métricas del Modelo de Regresión Logística:\n",
            "              precision    recall  f1-score   support\n",
            "\n",
            "           1       0.79      0.80      0.80    174569\n",
            "           2       0.70      0.82      0.76    127136\n",
            "           3       0.92      0.85      0.89    143827\n",
            "           4       0.77      0.83      0.80    199518\n",
            "           5       0.00      0.00      0.00     26425\n",
            "\n",
            "    accuracy                           0.79    671475\n",
            "   macro avg       0.64      0.66      0.65    671475\n",
            "weighted avg       0.77      0.79      0.78    671475\n",
            "\n",
            "Accuracy Score: 0.792\n"
          ]
        },
        {
          "output_type": "display_data",
          "data": {
            "text/plain": [
              "<Figure size 640x480 with 2 Axes>"
            ],
            "image/png": "[encoded data removed]"
          },
          "metadata": {}
        }
      ]
    },
    {
      "cell_type": "markdown",
      "source": [
        "**Clases:**\n",
        "- Bronx: 1\n",
        "- Queens: 2\n",
        "- Manhattan: 3\n",
        "- Brooklyn: 4\n",
        "- Staten Island: 5\n",
        "\n",
        "1. **Precision:**\n",
        "   - La precisión mide la proporción de instancias clasificadas positivamente que son realmente positivas. En este caso, la precisión varía entre las clases, siendo más alta para la clase '3' (0.92) y más baja para la clase '5' (0.00). La precisión de la clase '5' indica que el modelo tiene dificultades para identificar correctamente instancias de esa clase.\n",
        "\n",
        "2. **Recall:**\n",
        "   - Recall (o sensibilidad) mide la proporción de instancias positivas que fueron correctamente identificadas por el modelo. El recall es más alto para la clase '3' (0.85) y más bajo para la clase '5' (0.00). Esto sugiere que el modelo tiene dificultades para identificar instancias positivas de la clase '5'.\n",
        "\n",
        "3. **F1-Score:**\n",
        "   - El F1-score es la media armónica ponderada de precisión y recall. El F1-score varía entre las clases, siendo más alto para la clase '3' (0.89) y más bajo para la clase '5' (0.00). Esto refleja las dificultades del modelo para equilibrar precisión y recall en la clase '5'.\n",
        "\n",
        "4. **Accuracy:**\n",
        "   - La precisión general del modelo, medida por la accuracy, es del 0.79. La accuracy indica qué tan bien el modelo predice correctamente todas las clases, pero puede verse afectada por el desbalance de clases, especialmente cuando hay una clase minoritaria (como la clase '5' en este caso).\n",
        "\n",
        "En resumen, el modelo parece funcionar razonablemente bien para la mayoría de las clases, con un rendimiento particularmente fuerte para la clase '3'. Sin embargo, tiene dificultades para identificar instancias positivas de la clase '5', como se refleja en las métricas más bajas para esa clase."
      ],
      "metadata": {
        "id": "XNF5wsmz4oCl"
      }
    },
    {
      "cell_type": "markdown",
      "metadata": {
        "application/vnd.databricks.v1+cell": {
          "cellMetadata": {
            "byteLimit": 2048000,
            "rowLimit": 10000
          },
          "inputWidgets": {},
          "nuid": "67fe3e6f-563a-41bf-8306-d74debfecef5",
          "showTitle": false,
          "title": ""
        },
        "id": "mxo_74-B8GVm"
      },
      "source": [
        "##Técnicas de aprendizaje de máquina no supervisada"
      ]
    },
    {
      "cell_type": "markdown",
      "metadata": {
        "application/vnd.databricks.v1+cell": {
          "cellMetadata": {
            "byteLimit": 2048000,
            "rowLimit": 10000
          },
          "inputWidgets": {},
          "nuid": "d124f417-e40a-4879-9f7c-7709b6ddc2ce",
          "showTitle": false,
          "title": ""
        },
        "id": "a1gjFQkl8GVm"
      },
      "source": [
        "**La cuarta técnica que se va autilizar pertenece al grupo de aprendizaje de máquina no supervisado.**\n",
        "\n",
        "Agrupamiento o Clustering:\n",
        "\n",
        "4. _K-means_"
      ]
    },
    {
      "cell_type": "code",
      "execution_count": null,
      "metadata": {
        "application/vnd.databricks.v1+cell": {
          "cellMetadata": {
            "byteLimit": 2048000,
            "rowLimit": 10000
          },
          "inputWidgets": {},
          "nuid": "daccdfee-3341-45a5-aa1b-477062676766",
          "showTitle": false,
          "title": ""
        },
        "id": "UTAtP5XK8GVm",
        "colab": {
          "base_uri": "https://localhost:8080/",
          "height": 982
        },
        "outputId": "85372de9-c47e-4038-8d3e-2bfcd6876e4a"
      },
      "outputs": [
        {
          "output_type": "stream",
          "name": "stderr",
          "text": [
            "/usr/local/lib/python3.10/dist-packages/sklearn/cluster/_kmeans.py:870: FutureWarning: The default value of `n_init` will change from 10 to 'auto' in 1.4. Set the value of `n_init` explicitly to suppress the warning\n",
            "  warnings.warn(\n"
          ]
        },
        {
          "output_type": "display_data",
          "data": {
            "text/plain": [
              "<Figure size 640x480 with 1 Axes>"
            ],
            "image/png": "[encoded data removed]"
          },
          "metadata": {}
        },
        {
          "output_type": "display_data",
          "data": {
            "text/plain": [
              "<Figure size 640x480 with 1 Axes>"
            ],
            "image/png": "[encoded data removed]"
          },
          "metadata": {}
        }
      ],
      "source": [
        "from sklearn.cluster import KMeans\n",
        "import matplotlib.pyplot as plt\n",
        "from sklearn.preprocessing import StandardScaler\n",
        "\n",
        "# Normalizar las características para que tengan media cero y varianza unitaria\n",
        "scaler = StandardScaler()\n",
        "X_train_3_normalized = scaler.fit_transform(X_train_3)\n",
        "X_test_3_normalized = scaler.transform(X_test_3)\n",
        "\n",
        "# Definir el número de clústeres\n",
        "num_clusters = 3\n",
        "\n",
        "# Aplicar K-Means al conjunto de entrenamiento\n",
        "kmeans_train = KMeans(n_clusters=num_clusters, random_state=42)\n",
        "y_kmeans_train = kmeans_train.fit_predict(X_train_3_normalized)\n",
        "\n",
        "# Aplicar K-Means al conjunto de prueba (usando los centroides del conjunto de entrenamiento)\n",
        "y_kmeans_test = kmeans_train.predict(X_test_3_normalized)\n",
        "\n",
        "# Visualizar resultados en el conjunto de entrenamiento\n",
        "plt.scatter(X_train_3_normalized[:, 0], X_train_3_normalized[:, 1], c=y_kmeans_train, cmap='viridis')\n",
        "plt.title('K-Means Clustering (Conjunto de Entrenamiento)')\n",
        "plt.xlabel('Feature 1 (Normalized)')\n",
        "plt.ylabel('Feature 2 (Normalized)')\n",
        "plt.show()\n",
        "\n",
        "# Visualizar resultados en el conjunto de prueba\n",
        "plt.scatter(X_test_3_normalized[:, 0], X_test_3_normalized[:, 1], c=y_kmeans_test, cmap='viridis')\n",
        "plt.title('K-Means Clustering (Conjunto de Prueba)')\n",
        "plt.xlabel('Feature 1 (Normalized)')\n",
        "plt.ylabel('Feature 2 (Normalized)')\n",
        "plt.show()\n"
      ]
    },
    {
      "cell_type": "markdown",
      "source": [
        "**Observaciones:**\n",
        "\n",
        "- Se logra ver una gran distancia entre los puntos de una misma característica lo cual indica que no hay un buena integración entre los datos para lograr hacer agrupamientos.\n",
        "- Ya que el _DataSet_ estaba separado en prueba y entrenamiento se dejo así a proposito, para ver si los datos que se habían dispuesto para entrenamiento y para prueba tienen congruencia entre ellos, y como se puede ver en los gráficos si loa tiene."
      ],
      "metadata": {
        "id": "eEWsH9ZWMYRQ"
      }
    },
    {
      "cell_type": "code",
      "source": [
        "import pandas as pd\n",
        "from sklearn.cluster import KMeans\n",
        "from sklearn.preprocessing import StandardScaler\n",
        "\n",
        "# Eliminar columnas no deseadas si es necesario\n",
        "columns_delete = ['ARREST_DATE']\n",
        "# columns_to_keep = [...]  # Lista de columnas que deseas incluir\n",
        "dfa2 = dfa.drop(columns_delete, axis=1)\n",
        "# dfa = dfa[columns_to_keep]\n",
        "\n",
        "# Normalizar los datos para que tengan media cero y varianza unitaria\n",
        "scaler = StandardScaler()\n",
        "dfa_normalized = scaler.fit_transform(dfa2)\n",
        "\n",
        "# Definir el número de clústeres\n",
        "n_clusters = 5\n",
        "\n",
        "# Aplicar K-Means\n",
        "kmeans = KMeans(n_clusters=n_clusters, random_state=42)\n",
        "dfa2['cluster'] = kmeans.fit_predict(dfa_normalized)\n",
        "\n",
        "# Visualizar la asignación de clústeres\n",
        "print(dfa2['cluster'].value_counts())\n",
        "\n",
        "# Puedes explorar más detalles sobre los centroides y otras métricas si es necesario\n",
        "print(kmeans.cluster_centers_)\n"
      ],
      "metadata": {
        "colab": {
          "base_uri": "https://localhost:8080/"
        },
        "id": "TcjeMop2OrkB",
        "outputId": "ff8c87fe-c59f-43e7-fdbf-45a1dba686af"
      },
      "execution_count": null,
      "outputs": [
        {
          "output_type": "stream",
          "name": "stderr",
          "text": [
            "/usr/local/lib/python3.10/dist-packages/sklearn/cluster/_kmeans.py:870: FutureWarning: The default value of `n_init` will change from 10 to 'auto' in 1.4. Set the value of `n_init` explicitly to suppress the warning\n",
            "  warnings.warn(\n"
          ]
        },
        {
          "output_type": "stream",
          "name": "stdout",
          "text": [
            "0    1195941\n",
            "4     959743\n",
            "1     542371\n",
            "3     382787\n",
            "2     276531\n",
            "Name: cluster, dtype: int64\n",
            "[[ 7.18973080e-03 -1.00361778e-01  5.83843211e-01  7.99560446e-01\n",
            "  -2.91205976e-01  3.46134529e-04 -4.78333787e-01 -2.50987403e-01]\n",
            " [-3.84330873e-02  1.09570078e-01  1.50037648e-02  2.72683108e-02\n",
            "  -2.87339422e-01  9.28785302e-03  2.09059035e+00 -1.56314955e-01]\n",
            " [-2.51972546e-01  2.18723524e-01 -8.11593827e-04 -3.97536040e-01\n",
            "   3.20351028e+00  5.78756426e-02 -1.06469211e-02 -1.73519140e-01]\n",
            " [-1.20333615e-02 -9.54217688e-03 -2.84170012e-01 -2.02239771e-02\n",
            "  -2.82568590e-01  1.39684494e-02 -2.60644053e-01  2.16888973e+00]\n",
            " [ 9.01583416e-02  3.93628127e-03 -6.22534613e-01 -8.89231286e-01\n",
            "  -2.85071775e-01 -2.79254800e-02 -4.78333787e-01 -4.13682390e-01]]\n"
          ]
        }
      ]
    }
  ],
  "metadata": {
    "application/vnd.databricks.v1+notebook": {
      "dashboards": [],
      "language": "python",
      "notebookMetadata": {
        "pythonIndentUnit": 4
      },
      "notebookName": "GarciaG_&_GomezA_Proyecto_2da",
      "widgets": {}
    },
    "colab": {
      "provenance": []
    },
    "language_info": {
      "name": "python"
    },
    "kernelspec": {
      "name": "python3",
      "display_name": "Python 3"
    }
  },
  "nbformat": 4,
  "nbformat_minor": 0
}